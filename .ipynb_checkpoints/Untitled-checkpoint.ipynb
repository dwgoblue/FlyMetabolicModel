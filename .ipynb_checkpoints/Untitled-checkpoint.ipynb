{
 "cells": [
  {
   "cell_type": "code",
   "execution_count": null,
   "metadata": {},
   "outputs": [],
   "source": [
    "sel = []\n",
    "for ele in model.reactions:\n",
    "    if len(ele.gene_reaction_rule)>0:\n",
    "        if 'or' in ele.gene_reaction_rule:\n",
    "            sel = sel+ele.gene_reaction_rule.split(' or ')\n",
    "            print(ele.id, '|', ele.name, '-->',ele.gene_reaction_rule, '<--')"
   ]
  },
  {
   "cell_type": "code",
   "execution_count": null,
   "metadata": {},
   "outputs": [],
   "source": [
    "sel = np.unique(np.array(sel))"
   ]
  },
  {
   "cell_type": "code",
   "execution_count": null,
   "metadata": {},
   "outputs": [],
   "source": [
    "solution = model.optimize()\n",
    "out = solution.objective_value\n",
    "print('The growth rate:', out)"
   ]
  },
  {
   "cell_type": "code",
   "execution_count": null,
   "metadata": {},
   "outputs": [],
   "source": [
    "profile = single_gene_deletion(model, model.genes[:]) # delete genes instead of reations"
   ]
  },
  {
   "cell_type": "code",
   "execution_count": null,
   "metadata": {},
   "outputs": [],
   "source": [
    "fig = plt.figure(figsize=(20, 3))\n",
    "ax = fig.add_subplot(111)\n",
    "d = [arr[0] for arr in profile.to_numpy()]\n",
    "con = np.zeros((len(d), 100))\n",
    "for i in range(100):\n",
    "    con[:, i] = d\n",
    "ax.plot([arr[0] for arr in profile.to_numpy()])\n",
    "# import seaborn as sns\n",
    "# sns.heatmap(con)"
   ]
  },
  {
   "cell_type": "code",
   "execution_count": null,
   "metadata": {},
   "outputs": [],
   "source": [
    "res = []\n",
    "for i, label in enumerate(profile.index):\n",
    "    if str(label)[12:-3] in sel:\n",
    "        res.append(profile['growth'].iloc[i])\n",
    "#         if profile['growth'].iloc[i]<0.08:\n",
    "# #             print(str(label)[12:-3], profile['growth'].iloc[i])\n",
    "#             for ele in model.genes:\n",
    "#                 if ele.id == str(label)[12:-3]:\n",
    "#                     print(ele.name, \"|\", ele.id, \":\", ele.gene_reaction_rule)\n",
    "            \n",
    "fig = plt.figure(figsize=(20, 3))\n",
    "ax = fig.add_subplot(111)\n",
    "ax.plot(res)\n",
    "ax.plot(np.arange(len(res)), 0.088*np.ones(len(res)), linestyle='--')"
   ]
  },
  {
   "cell_type": "code",
   "execution_count": null,
   "metadata": {},
   "outputs": [],
   "source": [
    "# check = ['CG17010', 'CG13369']\n",
    "# check = ['CG7140', 'CG12529']\n",
    "check = ['CG32849']#, 'CG8036']\n",
    "for ele in model.reactions:\n",
    "    for ch in check:\n",
    "        if ch in ele.gene_reaction_rule:\n",
    "            print(ele.name, ele.gene_reaction_rule)"
   ]
  },
  {
   "cell_type": "code",
   "execution_count": null,
   "metadata": {},
   "outputs": [],
   "source": [
    "def subsyslabel():\n",
    "    for ele in model.reactions:\n",
    "        print(ele.name, '||', ele.id, '|| The label of subsystem is now', ele.subsystem)\n",
    "        test = input('Please type the name you want to label:')\n",
    "        print(test)"
   ]
  },
  {
   "cell_type": "code",
   "execution_count": null,
   "metadata": {},
   "outputs": [],
   "source": [
    "'Alanine, aspartate and glutamate metabolism'\n",
    "'Cysteine and methionine metabolism'\n",
    "'Glycine, serine and theronine metabolism'\n",
    "'Arginine and proline metabolism'\n",
    "'Arginine biosynthesis'\n",
    "'Biomass'\n",
    "'Transportation'\n",
    "'Sucrose metabolism'\n",
    "'Glycolysis/Gluconeogenese'\n",
    "'TCA'\n",
    "'Pyruvate metabolism'\n",
    "'Propanoate metabolism'"
   ]
  },
  {
   "cell_type": "code",
   "execution_count": null,
   "metadata": {},
   "outputs": [],
   "source": [
    "# cobra.io.save_json_model(textbook_model, \"test.json\")"
   ]
  }
 ],
 "metadata": {
  "kernelspec": {
   "display_name": "Python 3",
   "language": "python",
   "name": "python3"
  },
  "language_info": {
   "codemirror_mode": {
    "name": "ipython",
    "version": 3
   },
   "file_extension": ".py",
   "mimetype": "text/x-python",
   "name": "python",
   "nbconvert_exporter": "python",
   "pygments_lexer": "ipython3",
   "version": "3.8.2"
  }
 },
 "nbformat": 4,
 "nbformat_minor": 4
}
