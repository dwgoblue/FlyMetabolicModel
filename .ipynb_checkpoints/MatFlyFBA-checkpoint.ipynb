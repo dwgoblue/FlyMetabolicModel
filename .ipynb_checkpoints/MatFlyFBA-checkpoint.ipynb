{
 "cells": [
  {
   "cell_type": "markdown",
   "metadata": {},
   "source": [
    "# Flux balance analysis of Drosophila embryo development\n",
    "\n",
    "## Introduction\n",
    "We apply COBRA and COBRApy for the perturbation experiments in Drosophila embryo based on `Flysilico` model with network reconstruction.\n",
    "\n",
    "## Goals\n",
    "According to three researches focusing on the metabolic process during the embryo development, we are now having the following goals to reproduce.\n",
    "\n",
    "1. The injection of dATP results in the failure of the 11th cycle.\n",
    "2. The increases of ETC and TCA related subunits switch the main stream of metabolic fluxes from fatty acid breakdown to aerobic glycolysis for hatching. \n",
    "3. The early-staged embryo is sensitive to hypoxia that results in lethal embryo but the later one is not (where is the shift occurring.) (reduce source, lower bound) (v)\n",
    "4. The dERR and phosphofructokinase mutants cause the inhibition of glycolysis and lethal outcome. (v)\n",
    "5. ASN as a nitrogen source (v)\n",
    "6. The whole process produces 110 nmol of ATP which consists of 1.1 nmol of glycogen and 0.33 nmol of TAG. (v)\n",
    "(use glycogen and TAG)\n",
    "7. The ATP requirements of protein, RNA and DNA polymerization only use 10% energy budget.(create reactions related to ATP, set 0.1 to c metabolites) (v)\n",
    "8. How much biomass is produced"
   ]
  },
  {
   "cell_type": "markdown",
   "metadata": {},
   "source": [
    "# Zero: Initiate Cobra\n",
    "Execute the Cobra toolbox from a MATLAB script."
   ]
  },
  {
   "cell_type": "code",
   "execution_count": 1,
   "metadata": {},
   "outputs": [
    {
     "name": "stdout",
     "output_type": "stream",
     "text": [
      "\n",
      "\n",
      "      _____   _____   _____   _____     _____     |\n",
      "     /  ___| /  _  \\ |  _  \\ |  _  \\   / ___ \\    |   COnstraint-Based Reconstruction and Analysis\n",
      "     | |     | | | | | |_| | | |_| |  | |___| |   |   The COBRA Toolbox - 2020\n",
      "     | |     | | | | |  _  { |  _  /  |  ___  |   |\n",
      "     | |___  | |_| | | |_| | | | \\ \\  | |   | |   |   Documentation:\n",
      "     \\_____| \\_____/ |_____/ |_|  \\_\\ |_|   |_|   |   http://opencobra.github.io/cobratoolbox\n",
      "                                                  | \n",
      "\n",
      " > Checking if git is installed ...  Done (version: 1.8.3.).\n",
      " > Checking if the repository is tracked using git ...  Done.\n",
      " > Checking if curl is installed ...  Done.\n",
      " > Checking if remote can be reached ...  Done.\n",
      " > Initializing and updating submodules (this may take a while)... Done.\n",
      " > Adding all the files of The COBRA Toolbox ...  Done.\n",
      " > Define CB map output... set to svg.\n",
      " > TranslateSBML is installed and working properly.\n",
      " > Configuring solver environment variables ...\n",
      "   - [----] ILOG_CPLEX_PATH: --> set this path manually after installing the solver ( see https://opencobra.github.io/cobratoolbox/docs/solvers.html )\n",
      "   - [----] GUROBI_PATH: --> set this path manually after installing the solver ( see https://opencobra.github.io/cobratoolbox/docs/solvers.html )\n",
      "   - [----] TOMLAB_PATH: --> set this path manually after installing the solver ( see https://opencobra.github.io/cobratoolbox/docs/solvers.html )\n",
      "   - [----] MOSEK_PATH: --> set this path manually after installing the solver ( see https://opencobra.github.io/cobratoolbox/docs/solvers.html )\n",
      "   Done.\n",
      " > Checking available solvers and solver interfaces ... Done.\n",
      " > Setting default solvers ... Done.\n",
      " > Saving the MATLAB path ... Done.\n",
      "   - The MATLAB path was saved as ~/pathdef.m.\n",
      "\n",
      " > Summary of available solvers and solver interfaces\n",
      "\n",
      "\t\t\tSupport \t   LP \t MILP \t   QP \t MIQP \t  NLP\n",
      "\t----------------------------------------------------------------------\n",
      "\tgurobi       \tactive        \t    0 \t    0 \t    0 \t    0 \t    -\n",
      "\tibm_cplex    \tactive        \t    0 \t    0 \t    0 \t    0 \t    -\n",
      "\ttomlab_cplex \tactive        \t    0 \t    0 \t    0 \t    0 \t    -\n",
      "\tglpk         \tactive        \t    1 \t    1 \t    - \t    - \t    -\n",
      "\tmosek        \tactive        \t    0 \t    - \t    0 \t    - \t    -\n",
      "\tmatlab       \tactive        \t    1 \t    - \t    - \t    - \t    1\n",
      "\tpdco         \tactive        \t    1 \t    - \t    1 \t    - \t    -\n",
      "\tquadMinos    \tactive        \t    1 \t    - \t    - \t    - \t    -\n",
      "\tdqqMinos     \tactive        \t    1 \t    - \t    1 \t    - \t    -\n",
      "\tcplex_direct \tactive        \t    0 \t    0 \t    0 \t    - \t    -\n",
      "\tcplexlp      \tactive        \t    0 \t    - \t    - \t    - \t    -\n",
      "\tqpng         \tpassive       \t    - \t    - \t    1 \t    - \t    -\n",
      "\ttomlab_snopt \tpassive       \t    - \t    - \t    - \t    - \t    0\n",
      "\tlp_solve     \tlegacy        \t    1 \t    - \t    - \t    - \t    -\n",
      "\t----------------------------------------------------------------------\n",
      "\tTotal        \t-             \t    6 \t    1 \t    3 \t    0 \t    1\n",
      "\n",
      " + Legend: - = not applicable, 0 = solver not compatible or not installed, 1 = solver installed.\n",
      "\n",
      "\n",
      " > You can solve LP problems using: 'glpk' - 'matlab' - 'pdco' - 'quadMinos' \n",
      " > You can solve MILP problems using: 'glpk' \n",
      " > You can solve QP problems using: 'pdco' \n",
      " > You can solve MIQP problems using: \n",
      " > You can solve NLP problems using: 'matlab' \n",
      "\n",
      " > Checking for available updates ...\n",
      " > The COBRA Toolbox is up-to-date.\n"
     ]
    }
   ],
   "source": [
    "run '/home/daweilin/cobratoolbox/initCobraToolbox.m'"
   ]
  },
  {
   "cell_type": "markdown",
   "metadata": {},
   "source": [
    "## First Part: Import the model\n",
    "To directly use the `FlySilico` model, we have converted the format from `.json` to `.mat`."
   ]
  },
  {
   "cell_type": "code",
   "execution_count": 13,
   "metadata": {},
   "outputs": [
    {
     "name": "stdout",
     "output_type": "stream",
     "text": [
      "\n",
      "fly = \n",
      "\n",
      "  struct with fields:\n",
      "\n",
      "           mets: {293x1 cell}\n",
      "       metNames: {293x1 cell}\n",
      "    metFormulas: {293x1 cell}\n",
      "      metCharge: [293x1 double]\n",
      "          genes: {261x1 cell}\n",
      "     rxnGeneMat: [363x261 double]\n",
      "        grRules: {363x1 cell}\n",
      "           rxns: {363x1 cell}\n",
      "       rxnNames: {363x1 cell}\n",
      "     subSystems: {363x1 cell}\n",
      "              S: [293x363 double]\n",
      "             lb: [363x1 double]\n",
      "             ub: [363x1 double]\n",
      "              b: [293x1 double]\n",
      "              c: [363x1 double]\n",
      "            rev: [363x1 int64]\n",
      "    description: 'FlySilico_v1'\n",
      "\n"
     ]
    }
   ],
   "source": [
    "fly = load('FlySilico.mat');\n",
    "fly = fly.FlySilico_v1"
   ]
  },
  {
   "cell_type": "markdown",
   "metadata": {},
   "source": [
    "# Reconstitution of hypoxia condition\n",
    "To reproduce the number 3, we can change the oxygen uptake rate by `changeRxnBounds`. Before doing so, finding the index of the reaction of oxygen uptake is required. Note that the names with `EX` imply the transports of extracellular metabolites, and `tm` implies the transports of mitochondria metabolites."
   ]
  },
  {
   "cell_type": "code",
   "execution_count": 27,
   "metadata": {},
   "outputs": [
    {
     "name": "stdout",
     "output_type": "stream",
     "text": [
      "\n",
      "ans =\n",
      "\n",
      "  1x1 cell array\n",
      "\n",
      "    {'O2 exchange'}\n",
      "\n",
      "\n",
      "ans =\n",
      "\n",
      "  1x1 cell array\n",
      "\n",
      "    {0x0 char}\n",
      "\n",
      "\n",
      "ans =\n",
      "\n",
      "       -1000\n",
      "\n",
      "\n",
      "ans =\n",
      "\n",
      "        1000\n",
      "\n",
      "MinConstraints:\n",
      "EX_i(e)\t-0.0107197\n",
      "EX_sucr\t-2.21241\n",
      "EX_choline(e)\t-0.0158416\n",
      "EX_clr(e)\t-0.0343216\n",
      "EX_ins(e)\t-0.00122769\n",
      "EX_RIBFLV(e)\t-0.00012888\n",
      "EX_urd(e)\t-0.0108688\n",
      "EX_ala(e)\t-0.789432\n",
      "EX_arg(e)\t-0.233615\n",
      "EX_asn(e)\t-0.281242\n",
      "EX_asp(e)\t-0.279162\n",
      "EX_cys(e)\t-0.0963861\n",
      "EX_gln-L(e)\t-0.550875\n",
      "EX_glu-L(e)\t-0.547489\n",
      "EX_gly(e)\t-0.636414\n",
      "EX_his(e)\t-0.19387\n",
      "EX_ile(e)\t-0.391181\n",
      "EX_leu(e)\t-0.553047\n",
      "EX_lys(e)\t-0.526505\n",
      "EX_met(e)\t-0.0978305\n",
      "EX_phe(e)\t-0.380251\n",
      "EX_pro(e)\t-0.21516\n",
      "EX_ser(e)\t-0.319892\n",
      "EX_thr(e)\t-0.480895\n",
      "EX_trp(e)\t-0.29024\n",
      "EX_tyr(e)\t-0.205074\n",
      "EX_val(e)\t-0.166143\n",
      "ATPM\t8.55\n",
      "maxConstraints:\n"
     ]
    }
   ],
   "source": [
    "% Find oxygen uptake reaction.\n",
    "r = fly.rxns;\n",
    "rxnIDs = findRxnIDs(fly, 'EX_o2');\n",
    "fly.rxnNames(rxnIDs)\n",
    "fly.grRules(rxnIDs)\n",
    "% Show upper and lower bounds of the reaction.\n",
    "fly.lb(rxnIDs)\n",
    "fly.ub(rxnIDs)\n",
    "printConstraints(fly,-100, +100);\n",
    "% Obtain the rxnIDs for the glycolysis pathway reactions\n",
    "glycolysisSubystem = {'Glycolysis/Gluconeogenesis'};\n",
    "glycolysisReactions = fly.rxns(ismember(fly.subSystems,glycolysisSubystem));\n",
    "[tmp,glycolysis_rxnID] = ismember(glycolysisReactions,fly.rxns);"
   ]
  },
  {
   "cell_type": "markdown",
   "metadata": {},
   "source": [
    "Check the original growth rate without perturbation on oxygen uptake rate."
   ]
  },
  {
   "cell_type": "code",
   "execution_count": 29,
   "metadata": {},
   "outputs": [
    {
     "name": "stdout",
     "output_type": "stream",
     "text": [
      "\n",
      "ans =\n",
      "\n",
      "    0.0880\n",
      "\n"
     ]
    }
   ],
   "source": [
    "% Optimization.\n",
    "OriFBAsolution = optimizeCbModel(fly,'max');\n",
    "OriFBAsolution.f"
   ]
  },
  {
   "cell_type": "markdown",
   "metadata": {},
   "source": [
    "Changing the lower bound of oxygen uptake rate, we can observe the hypoxia effects on growth rate."
   ]
  },
  {
   "cell_type": "code",
   "execution_count": 43,
   "metadata": {},
   "outputs": [
    {
     "name": "stdout",
     "output_type": "stream",
     "text": [
      "\n",
      "height =\n",
      "\n",
      "        1000\n",
      "\n"
     ]
    },
    {
     "data": {
      "image/png": "[encoded data removed]",
      "text/plain": [
       "<IPython.core.display.Image object>"
      ]
     },
     "metadata": {},
     "output_type": "display_data"
    }
   ],
   "source": [
    "% Change the lower and upper bounds of oxygen uptake.\n",
    "l_v = 0:-0.1:-2;\n",
    "res = [];\n",
    "for i=1:length(l_v);\n",
    "    model = changeRxnBounds(fly,'EX_o2',l_v(i),'l'); % Set the maximum uptake rate.\n",
    "    % Optimization.\n",
    "    FBAsolution = optimizeCbModel(model,'max');\n",
    "    res = [res FBAsolution.f];\n",
    "end\n",
    "\n",
    "\n",
    "ids = find(contains(fly.rxns, 'EX'));\n",
    "mtr = zeros(length(ids), length(l_v));\n",
    "\n",
    "for i=1:length(l_v);\n",
    "    model = changeRxnBounds(fly,'EX_o2',l_v(i),'l'); % Set the maximum uptake rate.\n",
    "    % Optimization.\n",
    "    FBAsolution = optimizeCbModel(model,'max');\n",
    "    % Recording.\n",
    "    mtr(:, i) = FBAsolution.v(ids);\n",
    "end\n",
    "\n",
    "xvalues = l_v;\n",
    "yvalues = fly.rxns(ids);\n",
    "figure('position', [0, 0, 200, 500])\n",
    "h = heatmap(xvalues,yvalues,mtr);\n",
    "\n",
    "% h.Title = 'T-Shirt Orders';\n",
    "h.XLabel = 'Hypoxia strength';\n",
    "h.YLabel = 'Biomass uptake reactions';\n",
    "x0=1000;\n",
    "y0=1000;\n",
    "width=1000;\n",
    "height=1000\n",
    "set(gcf,'position',[x0,y0,width,height])\n",
    "% modelConstrained.mets(244)\n",
    "\n",
    "% check the biomass equation.\n",
    "% check glycolysis.\n",
    "% check ASP.\n",
    "% check medium (investigate the connection between the biomass eq and synthesis)"
   ]
  },
  {
   "cell_type": "code",
   "execution_count": 27,
   "metadata": {},
   "outputs": [
    {
     "data": {
      "image/png": "[encoded data removed]",
      "text/plain": [
       "<IPython.core.display.Image object>"
      ]
     },
     "metadata": {},
     "output_type": "display_data"
    }
   ],
   "source": [
    "plot(l_v, res)"
   ]
  },
  {
   "cell_type": "code",
   "execution_count": 44,
   "metadata": {},
   "outputs": [
    {
     "name": "stdout",
     "output_type": "stream",
     "text": [
      "\n",
      "HEX1_ID =\n",
      "\n",
      "   156\n",
      "\n",
      "\n",
      "ans =\n",
      "\n",
      "    0.0713\n",
      "\n",
      "\n",
      "ans =\n",
      "\n",
      "    0.0216\n",
      "\n"
     ]
    }
   ],
   "source": [
    "HEX1_ID = findRxnIDs(fly, 'HEX1')\n",
    "model = changeRxnBounds(fly,'EX_o2',0,'l');\n",
    "FBAsolution = optimizeCbModel(model,'max');\n",
    "FBAsolution.v(HEX1_ID)\n",
    "OriFBAsolution.v(HEX1_ID)"
   ]
  },
  {
   "cell_type": "markdown",
   "metadata": {},
   "source": [
    "## Increases of nitrogen source by changing Asn uptake rate"
   ]
  },
  {
   "cell_type": "code",
   "execution_count": 21,
   "metadata": {},
   "outputs": [],
   "source": [
    "% Change the lower and upper bounds of ASN uptake.\n",
    "l_v = 3:-0.1:-5;\n",
    "res = [];\n",
    "for i=1:length(l_v);\n",
    "    model = changeRxnBounds(fly,'EX_asn(e)',l_v(i),'l'); % Set the maximum uptake rate.\n",
    "    % Optimization.\n",
    "    FBAsolution = optimizeCbModel(model,'max');\n",
    "    res = [res FBAsolution.f];\n",
    "end"
   ]
  },
  {
   "cell_type": "code",
   "execution_count": 22,
   "metadata": {},
   "outputs": [
    {
     "data": {
      "image/png": "[encoded data removed]",
      "text/plain": [
       "<IPython.core.display.Image object>"
      ]
     },
     "metadata": {},
     "output_type": "display_data"
    }
   ],
   "source": [
    "plot(l_v, res)"
   ]
  },
  {
   "cell_type": "markdown",
   "metadata": {},
   "source": [
    "## Measurements of energy consumption and glycogen/TAG depletion"
   ]
  },
  {
   "cell_type": "code",
   "execution_count": 8,
   "metadata": {},
   "outputs": [
    {
     "name": "stderr",
     "output_type": "stream",
     "text": [
      "\u001b[0;31mError using eval\n",
      "Undefined function or variable 'model'.\n",
      "\n",
      "\u001b[0m"
     ]
    }
   ],
   "source": [
    "% Create a demand reaction for measuring ATP.\n",
    "R1 = 'atp[c] -> ';\n",
    "modelConstrained = addReaction(model, 'ATPenv', 'reactionFormula', R1);"
   ]
  },
  {
   "cell_type": "code",
   "execution_count": 45,
   "metadata": {},
   "outputs": [],
   "source": [
    "% Search the IDs.\n",
    "r = modelConstrained.rxns;\n",
    "rxnIDs = findRxnIDs(modelConstrained, 'ATPenv');\n",
    "metIDs = findMetIDs(modelConstrained, 'atp[c]');\n",
    "% Set objective coefficient for the demand reaction.\n",
    "modelConstrained.rxnNames(rxnIDs);\n",
    "% modelConstrained.c(rxnIDs) = 1; % -->just maximize ATP % check the paper again...\n",
    "ATPSID = findRxnIDs(modelConstrained, 'ATPS4r');\n",
    "BIOMASSID = findRxnIDs(modelConstrained, 'BIOMASS');\n",
    "modelConstrained.c(ATPSID) = 1;\n",
    "modelConstrained.c(BIOMASSID) = 0;"
   ]
  },
  {
   "cell_type": "code",
   "execution_count": 46,
   "metadata": {},
   "outputs": [
    {
     "name": "stdout",
     "output_type": "stream",
     "text": [
      "Growth rate:\n",
      "  598.5755\n",
      "\n",
      "ATP flux:\n",
      "     0\n",
      "\n",
      "ATPS flux:\n",
      "  598.5755\n",
      "\n",
      "ATP concentration estimation in cytosol (by calculating S*v=b):\n",
      "   1.8069e+03\n",
      "\n",
      "Flux for the reaction \"atp[c]->\":\n",
      "     0\n",
      "\n",
      "Glycogen concentration estimation in cytosol (by calculating S*v=b):\n",
      "     0\n",
      "\n",
      "TAG concentration estimation in cytosol (by calculating S*v=b):\n",
      "     0\n",
      "\n"
     ]
    }
   ],
   "source": [
    "% Optimization.\n",
    "FBAsolution = optimizeCbModel(modelConstrained,'max');\n",
    "disp('Growth rate:')\n",
    "disp(FBAsolution.f)\n",
    "disp('ATP flux:')\n",
    "disp(FBAsolution.x(rxnIDs))\n",
    "disp('ATPS flux:')\n",
    "disp(FBAsolution.x(ATPSID))\n",
    "\n",
    "% Estimate the concentration of ATP at steady state.\n",
    "tmp = modelConstrained.S;\n",
    "emp = zeros(size(tmp));\n",
    "emp(tmp>0) = tmp(tmp>0);\n",
    "x = abs(emp)*FBAsolution.v;\n",
    "atpcID = findMetIDs(modelConstrained, 'atp[c]');\n",
    "glycogencID = findMetIDs(modelConstrained, 'glycogen[c]');\n",
    "tagcID = findMetIDs(modelConstrained, 'tag[c]');\n",
    "\n",
    "disp('ATP concentration estimation in cytosol (by calculating S*v=b):')\n",
    "disp(x(atpcID))\n",
    "disp('Flux for the reaction \"atp[c]->\":')\n",
    "disp(FBAsolution.v(364))\n",
    "disp('Glycogen concentration estimation in cytosol (by calculating S*v=b):')\n",
    "disp(x(glycogencID))\n",
    "disp('TAG concentration estimation in cytosol (by calculating S*v=b):')\n",
    "disp(x(tagcID))\n",
    "% check b and use other method to calculate con.(absolute value in S)"
   ]
  },
  {
   "cell_type": "code",
   "execution_count": 10,
   "metadata": {},
   "outputs": [],
   "source": [
    "del_genes = {'CG3861'; 'CG4001'; 'CG5362'; 'CG10160'}; % kdn (34), pfk(149), mdh(41), ldh(20)\n",
    "del_rxns = {'CS'; 'PFK'; 'MDH'; 'LDH_L'};"
   ]
  },
  {
   "cell_type": "code",
   "execution_count": 11,
   "metadata": {},
   "outputs": [
    {
     "name": "stdout",
     "output_type": "stream",
     "text": [
      "Single gene deletion analysis in progress ...\n",
      "25%     [..........                             50%     [....................                   75%     [..............................         100%    [........................................]\n",
      "Gene deletions:\n",
      "     name        rate  \n",
      "    _______    ________\n",
      "\n",
      "    'CS'       0.087995\n",
      "    'PFK'      0.087995\n",
      "    'MDH'      0.087995\n",
      "    'LDH_L'    0.087995\n",
      "    'WT'       0.087995\n",
      "\n"
     ]
    }
   ],
   "source": [
    "[grRatio, grRateKO, grRateWT, hasEffect, delRxns,...\n",
    "fluxSolution] = singleGeneDeletion(fly, 'FBA', del_genes);\n",
    "rate = [grRateKO;grRateWT];\n",
    "name = del_rxns;\n",
    "name{length(del_rxns)+1,1} = 'WT';\n",
    "T = table(name,rate);\n",
    "disp('Gene deletions:')\n",
    "disp(T)"
   ]
  },
  {
   "cell_type": "code",
   "execution_count": 23,
   "metadata": {},
   "outputs": [
    {
     "name": "stdout",
     "output_type": "stream",
     "text": [
      "Single reaction deletion analysis in progress ...\n",
      "25%     [..........                             50%     [....................                   75%     [..............................         100%    [........................................]\n",
      "Reaction deletions:\n",
      "     name         rate    \n",
      "    _______    ___________\n",
      "\n",
      "    'CS'          0.062489\n",
      "    'PFK'      -1.3365e-12\n",
      "    'MDH'         0.062489\n",
      "    'LDH_L'              0\n",
      "    'WT'          0.087995\n",
      "\n"
     ]
    }
   ],
   "source": [
    "[grRatio, grRateKO, grRateWT, hasEffect, delRxns,...\n",
    "fluxSolution] = singleRxnDeletion(fly, 'FBA', del_rxns);\n",
    "rate = [grRateKO;grRateWT];\n",
    "name = del_rxns;\n",
    "name{length(del_rxns)+1,1} = 'WT';\n",
    "T = table(name,rate);\n",
    "disp('Reaction deletions:')\n",
    "disp(T)\n",
    "%check the biomass in medium like the paper used"
   ]
  },
  {
   "cell_type": "code",
   "execution_count": 13,
   "metadata": {},
   "outputs": [
    {
     "name": "stdout",
     "output_type": "stream",
     "text": [
      "\n",
      "ans =\n",
      "\n",
      "   105\n",
      "   232\n",
      "\n",
      "\n",
      "ans =\n",
      "\n",
      "  1x1 cell array\n",
      "\n",
      "    {'glycogen[c]'}\n",
      "\n",
      "\n",
      "ans =\n",
      "\n",
      "   244\n",
      "\n",
      "\n",
      "ans =\n",
      "\n",
      "  1x1 cell array\n",
      "\n",
      "    {'tag[c]'}\n",
      "\n"
     ]
    }
   ],
   "source": [
    "find(contains(modelConstrained.mets, 'glyco'))\n",
    "modelConstrained.mets(105)\n",
    "find(contains(lower(modelConstrained.mets), 'tag'))\n",
    "modelConstrained.mets(244)"
   ]
  },
  {
   "cell_type": "code",
   "execution_count": 14,
   "metadata": {},
   "outputs": [
    {
     "name": "stdout",
     "output_type": "stream",
     "text": [
      "\n",
      "ans =\n",
      "\n",
      "  1x1 cell array\n",
      "\n",
      "    {'x(2) | x(1)'}\n",
      "\n",
      "\n",
      "ans =\n",
      "\n",
      "  1x1 cell array\n",
      "\n",
      "    {'x(37) | x(38)'}\n",
      "\n",
      "\n",
      "ans =\n",
      "\n",
      "  1x1 cell array\n",
      "\n",
      "    {'x(20) | x(21) | x(23) | x(22) | x(25) | x(24)'}\n",
      "\n"
     ]
    }
   ],
   "source": [
    "modelConstrained.rules(34)\n",
    "modelConstrained.rules(149)\n",
    "modelConstrained.rules(41)"
   ]
  },
  {
   "cell_type": "code",
   "execution_count": null,
   "metadata": {},
   "outputs": [],
   "source": []
  },
  {
   "cell_type": "code",
   "execution_count": 39,
   "metadata": {},
   "outputs": [
    {
     "name": "stdout",
     "output_type": "stream",
     "text": [
      "\n",
      "ans =\n",
      "\n",
      "   156\n",
      "\n",
      "\n",
      "n =\n",
      "\n",
      "   156\n",
      "\n",
      "\n",
      "ans =\n",
      "\n",
      "  1x1 cell array\n",
      "\n",
      "    {'hexokinase (D-glucose:ATP)'}\n",
      "\n",
      "\n",
      "ans =\n",
      "\n",
      "  1x1 cell array\n",
      "\n",
      "    {'HEX1'}\n",
      "\n"
     ]
    }
   ],
   "source": [
    "find(contains(lower(modelConstrained.rxnNames), 'hex'))\n",
    "n = 156\n",
    "modelConstrained.rxnNames(n)\n",
    "modelConstrained.rxns(n)\n",
    "%Serine hydroxymethyl transferase"
   ]
  },
  {
   "cell_type": "code",
   "execution_count": 7,
   "metadata": {},
   "outputs": [
    {
     "name": "stdout",
     "output_type": "stream",
     "text": [
      "\n",
      "map = \n",
      "\n",
      "  struct with fields:\n",
      "\n",
      "               shapeType: {3x1 cell}\n",
      "                shapePos: [3x2 double]\n",
      "               shapeSize: [3x2 double]\n",
      "              shapeStyle: {3x1 cell}\n",
      "          shapeThickness: [3x1 double]\n",
      "              shapeColor: [3x3 double]\n",
      "                    text: {0x1 cell}\n",
      "                textFont: {0x1 cell}\n",
      "                 textPos: [0x2 double]\n",
      "                textSize: [0x1 double]\n",
      "             molPosition: [2x221 double]\n",
      "                molIndex: [221x1 double]\n",
      "                 molName: {221x1 cell}\n",
      "         molAbbreviation: {221x1 cell}\n",
      "             molLabelPos: [221x2 double]\n",
      "                molPrime: {221x1 cell}\n",
      "          molCompartment: [221x1 double]\n",
      "             rxnPosition: [2x454 double]\n",
      "        rxnLabelPosition: [2x454 double]\n",
      "                rxnIndex: [454x1 double]\n",
      "              connection: [476x2 double]\n",
      "           connectionAbb: {476x1 cell}\n",
      "          connectionName: {476x1 cell}\n",
      "    connectionReversible: [477x1 double]\n",
      "\n"
     ]
    }
   ],
   "source": [
    "outputFormatOK = changeCbMapOutput('matlab');\n",
    "map=readCbMap('ecoli_core_map');\n",
    "map\n",
    "% options.zeroFluxWidth = 0.1;\n",
    "% options.rxnDirMultiplier = 10;\n",
    "% drawFlux(map, model, FBAsolution.v, options);"
   ]
  },
  {
   "cell_type": "code",
   "execution_count": null,
   "metadata": {},
   "outputs": [],
   "source": []
  }
 ],
 "metadata": {
  "kernelspec": {
   "display_name": "Matlab",
   "language": "matlab",
   "name": "matlab"
  },
  "language_info": {
   "codemirror_mode": "octave",
   "file_extension": ".m",
   "help_links": [
    {
     "text": "MetaKernel Magics",
     "url": "https://metakernel.readthedocs.io/en/latest/source/README.html"
    }
   ],
   "mimetype": "text/x-octave",
   "name": "matlab",
   "version": "0.16.9"
  }
 },
 "nbformat": 4,
 "nbformat_minor": 4
}
