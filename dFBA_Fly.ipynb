{
 "cells": [
  {
   "cell_type": "markdown",
   "metadata": {},
   "source": [
    "# Measurement of ATP production based on given amount of TAG and glycogen\n",
    "From the article, the whole process of embryonic growth produces 110 nmol of ATP which consists of 1.1 nmol of glycogen and 0.33 nmol of TAG. (v) (use glycogen and TAG)"
   ]
  },
  {
   "cell_type": "code",
   "execution_count": 13,
   "metadata": {},
   "outputs": [],
   "source": [
    "# import essential packages\n",
    "import cobra\n",
    "import pandas as pd\n",
    "import timeit\n",
    "import time\n",
    "import seaborn\n",
    "import matplotlib.pyplot as plt\n",
    "import numpy as np\n",
    "from cobra.flux_analysis import (\n",
    "    single_gene_deletion, single_reaction_deletion, double_gene_deletion,\n",
    "    double_reaction_deletion)\n",
    "import os\n",
    "from cobra.util.solver import linear_reaction_coefficients\n",
    "from MatplotProp import CanvasStyle, PltProps\n",
    "PltProps()"
   ]
  },
  {
   "cell_type": "code",
   "execution_count": 14,
   "metadata": {},
   "outputs": [
    {
     "data": {
      "text/html": [
       "\n",
       "        <table>\n",
       "            <tr>\n",
       "                <td><strong>Name</strong></td>\n",
       "                <td>FlySilico_v1</td>\n",
       "            </tr><tr>\n",
       "                <td><strong>Memory address</strong></td>\n",
       "                <td>0x02b83a828aeb0</td>\n",
       "            </tr><tr>\n",
       "                <td><strong>Number of metabolites</strong></td>\n",
       "                <td>293</td>\n",
       "            </tr><tr>\n",
       "                <td><strong>Number of reactions</strong></td>\n",
       "                <td>363</td>\n",
       "            </tr><tr>\n",
       "                <td><strong>Number of groups</strong></td>\n",
       "                <td>0</td>\n",
       "            </tr><tr>\n",
       "                <td><strong>Objective expression</strong></td>\n",
       "                <td>1.0*BIOMASS - 1.0*BIOMASS_reverse_69053</td>\n",
       "            </tr><tr>\n",
       "                <td><strong>Compartments</strong></td>\n",
       "                <td>cytosol, extracellular, mitochondria</td>\n",
       "            </tr>\n",
       "          </table>"
      ],
      "text/plain": [
       "<Model FlySilico_v1 at 0x2b83a828aeb0>"
      ]
     },
     "execution_count": 14,
     "metadata": {},
     "output_type": "execute_result"
    }
   ],
   "source": [
    "# Load Flysilico_v1 model\n",
    "path = \"FBA_Dmel_mapdata.json\"\n",
    "model = cobra.io.load_json_model(path)\n",
    "model"
   ]
  },
  {
   "cell_type": "code",
   "execution_count": 15,
   "metadata": {},
   "outputs": [
    {
     "data": {
      "text/plain": [
       "'atp[c] --> '"
      ]
     },
     "metadata": {},
     "output_type": "display_data"
    },
    {
     "data": {
      "text/plain": [
       "'tag[e] <=> '"
      ]
     },
     "metadata": {},
     "output_type": "display_data"
    },
    {
     "data": {
      "text/plain": [
       "'tag[e] --> tag[c]'"
      ]
     },
     "metadata": {},
     "output_type": "display_data"
    },
    {
     "data": {
      "text/plain": [
       "'glycogen[e] <=> '"
      ]
     },
     "metadata": {},
     "output_type": "display_data"
    },
    {
     "data": {
      "text/plain": [
       "'glycogen[e] --> glycogen[c]'"
      ]
     },
     "metadata": {},
     "output_type": "display_data"
    }
   ],
   "source": [
    "from cobra import Model, Reaction, Metabolite\n",
    "# Best practise: SBML compliant IDs\n",
    "# Copy the model for modificaitons.\n",
    "fly = model.copy()\n",
    "\n",
    "# Add an extra ATP synthesis reaction (demand reaction).\n",
    "reaction = Reaction('atp_measure')\n",
    "reaction.name = 'ATP_measure'\n",
    "reaction.subsystem = ''\n",
    "reaction.lower_bound = 0.  # This is the default\n",
    "reaction.upper_bound = 1000.  # This is the default\n",
    "tag = model.metabolites.get_by_id('atp[c]')\n",
    "reaction.add_metabolites({\n",
    "    tag: -1.0\n",
    "})\n",
    "\n",
    "display(reaction.reaction)  # This gives a string representation of the reaction\n",
    "fly.add_reactions([reaction])\n",
    "\n",
    "# Create reactions for TAG\n",
    "reaction = Reaction('EX_TAG')\n",
    "reaction.name = 'TAG exchange'\n",
    "reaction.subsystem = ''\n",
    "reaction.lower_bound = -1000.  # This is the default\n",
    "reaction.upper_bound = 1000.  # This is the default\n",
    "tag_c = model.metabolites.get_by_id('tag[c]')\n",
    "tag_e = Metabolite(\n",
    "    'tag[e]',\n",
    "    formula='C6H5O6R3',\n",
    "    name='Triglyceride',\n",
    "    compartment='e')\n",
    "\n",
    "reaction.add_metabolites({\n",
    "    tag_e: -1.0\n",
    "})\n",
    "\n",
    "display(reaction.reaction)  # This gives a string representation of the reaction\n",
    "fly.add_reactions([reaction])\n",
    "\n",
    "# Transportation from extracellular space to cytosolic space.\n",
    "reaction = Reaction('tm_TAG')\n",
    "reaction.name = 'TAG transport'\n",
    "reaction.subsystem = ''\n",
    "reaction.lower_bound = 0.  # This is the default\n",
    "reaction.upper_bound = 1000.  # This is the default\n",
    "reaction.add_metabolites({\n",
    "    tag_e: -1.0,\n",
    "    tag_c: 1.\n",
    "})\n",
    "\n",
    "display(reaction.reaction)  # This gives a string representation of the reaction\n",
    "fly.add_reactions([reaction])\n",
    "reaction = Reaction('EX_glyco')\n",
    "reaction.name = 'Glycogen exchange'\n",
    "reaction.subsystem = ''\n",
    "reaction.lower_bound = -1000.  # This is the default\n",
    "reaction.upper_bound = 1000.  # This is the default\n",
    "glyco_c = model.metabolites.get_by_id('glycogen[c]')\n",
    "glyco_e = Metabolite(\n",
    "    'glycogen[e]',\n",
    "    formula='C6H10O5',\n",
    "    name='Glycogen',\n",
    "    compartment='e')\n",
    "reaction.add_metabolites({\n",
    "    glyco_e: -1.0\n",
    "})\n",
    "\n",
    "display(reaction.reaction)  # This gives a string representation of the reaction\n",
    "fly.add_reactions([reaction])\n",
    "\n",
    "# Transportation from extracellular space to cytosolic space.\n",
    "reaction = Reaction('tm_glycogen')\n",
    "reaction.name = 'Glycogen transport'\n",
    "reaction.subsystem = ''\n",
    "reaction.lower_bound = 0.  # This is the default # check the flux\n",
    "reaction.upper_bound = 1000.  # This is the default\n",
    "reaction.add_metabolites({\n",
    "    glyco_e: -1.0,\n",
    "    glyco_c: 1.\n",
    "})\n",
    "\n",
    "display(reaction.reaction)  # This gives a string representation of the reaction\n",
    "fly.add_reactions([reaction])"
   ]
  },
  {
   "cell_type": "code",
   "execution_count": 16,
   "metadata": {},
   "outputs": [
    {
     "data": {
      "image/png": "[encoded data removed]",
      "text/plain": [
       "<Figure size 1800x720 with 2 Axes>"
      ]
     },
     "metadata": {
      "needs_background": "light"
     },
     "output_type": "display_data"
    }
   ],
   "source": [
    "# Optimize the demand reaction.\n",
    "fly.objective = \"atp_measure\"\n",
    "\n",
    "# Settings.\n",
    "sample_size = 50\n",
    "para = np.linspace(0, -1, sample_size)\n",
    "mat = np.zeros((sample_size, sample_size))\n",
    "\n",
    "# Remove sucrose.\n",
    "m = fly.medium\n",
    "m['EX_sucr'] = 0\n",
    "fly.medium = m\n",
    "\n",
    "# Change glycogen and TAG uptake rate for measuring the ATP fluxes.\n",
    "for i, vi in enumerate(reversed(para)):\n",
    "    for j, vj in enumerate(para):\n",
    "        fly.reactions.get_by_id('EX_glyco').lower_bound = vi\n",
    "        fly.reactions.get_by_id('EX_TAG').lower_bound = vj\n",
    "        sol = fly.optimize()\n",
    "        mat[i, j] = sol.objective_value\n",
    "\n",
    "# Figure settings.\n",
    "fig = plt.figure(figsize=(25, 10))\n",
    "ax = fig.add_subplot(111)\n",
    "im = ax.imshow(mat, cmap='RdBu')\n",
    "ax.set_yticks(np.linspace(0, sample_size-1, 6))\n",
    "ax.set_yticklabels(np.round(np.linspace(-1, 0, 6), 3))\n",
    "ax.set_xticks(np.linspace(0, sample_size-1, 6))\n",
    "ax.set_xticklabels(np.round(np.linspace(0, -1, 6), 3))\n",
    "ax.set_ylabel('Glycogen uptake rate')\n",
    "ax.set_xlabel('TAG uptake rate')\n",
    "ax.set_title('ATP flux varied by TAG & glycogen')\n",
    "CanvasStyle(ax, square=True)\n",
    "ax.set_xticks(np.arange(mat.shape[1]+1)-.5, minor=True)\n",
    "ax.set_yticks(np.arange(mat.shape[0]+1)-.5, minor=True)\n",
    "ax.grid(which=\"minor\", color=\"w\", linestyle='-', linewidth=3)\n",
    "plt.colorbar(im)\n",
    "plt.tight_layout()\n",
    "plt.show()"
   ]
  },
  {
   "cell_type": "markdown",
   "metadata": {},
   "source": [
    "___\n",
    "## dFBA simulation with ATP synthesis reaction as demand reaction"
   ]
  },
  {
   "cell_type": "code",
   "execution_count": 17,
   "metadata": {},
   "outputs": [],
   "source": [
    "# Remove all resources from the medium if needed.\n",
    "# model_o = model.copy()\n",
    "# m = fly.medium\n",
    "# for ele in m:\n",
    "#     print(ele)\n",
    "#     if ele!='EX_o2' and ele!='EX_TAG' and ele!='EX_glyco':\n",
    "#         m[ele] = 0\n",
    "# fly.medium = m"
   ]
  },
  {
   "cell_type": "code",
   "execution_count": 33,
   "metadata": {},
   "outputs": [
    {
     "data": {
      "text/plain": [
       "{'EX_h2o': 1000.0,\n",
       " 'EX_i(e)': 0.0107197,\n",
       " 'EX_o2': 1000.0,\n",
       " 'EX_choline(e)': 0.0158416,\n",
       " 'EX_clr(e)': 0.03432158,\n",
       " 'EX_fadh2(e)': 1000.0,\n",
       " 'EX_ins(e)': 0.00122769,\n",
       " 'EX_RIBFLV(e)': 0.00012888,\n",
       " 'EX_arg(e)': 0.23361544,\n",
       " 'EX_asn(e)': 0.28124216,\n",
       " 'EX_asp(e)': 0.27916151,\n",
       " 'EX_gln-L(e)': 0.55087471,\n",
       " 'EX_glu-L(e)': 0.54748851,\n",
       " 'EX_his(e)': 0.19386955,\n",
       " 'EX_ile(e)': 0.3911806,\n",
       " 'EX_leu(e)': 0.55304742,\n",
       " 'EX_lys(e)': 0.5265047,\n",
       " 'EX_met(e)': 0.09783051,\n",
       " 'EX_phe(e)': 0.38025078,\n",
       " 'EX_pro(e)': 0.21515964,\n",
       " 'EX_ser(e)': 0.31989175,\n",
       " 'EX_thr(e)': 0.4808948,\n",
       " 'EX_trp(e)': 0.29024044,\n",
       " 'EX_tyr(e)': 0.20507447,\n",
       " 'EX_val(e)': 0.16614346,\n",
       " 'EX_TAG': 1.0}"
      ]
     },
     "metadata": {},
     "output_type": "display_data"
    }
   ],
   "source": [
    "# dFBA settings.\n",
    "model = fly\n",
    "\n",
    "# Remove resources from medium if needed.\n",
    "m = model.medium\n",
    "# m['EX_sucr'] = 0\n",
    "# m['EX_glu-L(e)'] = 0\n",
    "# m['EX_asn(e)'] = 0\n",
    "# m['EX_asp(e)'] = 0\n",
    "model.medium = m\n",
    "display(model.medium)\n",
    "\n",
    "def add_dynamic_bounds(model, y):\n",
    "    \"\"\"Use external concentrations to bound the uptake flux of glucose.\"\"\"\n",
    "    ATP, TAG, GLY, o2 = y  # expand the boundary species\n",
    "    \n",
    "    ATP_max_export = 1000\n",
    "    model.reactions.get_by_id('atp_measure').upper_bound = ATP_max_export\n",
    "    \n",
    "    TAG_max_import = -0.33*TAG\n",
    "    model.reactions.get_by_id('EX_TAG').lower_bound = TAG_max_import\n",
    "    \n",
    "    GLY_max_import = -1.1*GLY\n",
    "    model.reactions.get_by_id('EX_glyco').lower_bound = GLY_max_import\n",
    "    \n",
    "    o2_max_import = -24*o2\n",
    "    model.reactions.get_by_id('EX_o2').lower_bound = o2_max_import\n",
    "\n",
    "\n",
    "def dynamic_system(t, y):\n",
    "    \"\"\"Calculate the time derivative of external species.\"\"\"\n",
    "\n",
    "    ATP, TAG, GLY, o2 = y  # expand the boundary species\n",
    "\n",
    "    # Calculate the specific exchanges fluxes at the given external concentrations.\n",
    "    with model:\n",
    "        add_dynamic_bounds(model, y)\n",
    "\n",
    "        cobra.util.add_lp_feasibility(model)\n",
    "        feasibility = cobra.util.fix_objective_as_constraint(model)\n",
    "        lex_constraints = cobra.util.add_lexicographic_constraints(\n",
    "            model, ['atp_measure', 'EX_TAG', 'EX_glyco', 'EX_o2'],\n",
    "            ['max', 'max', 'max', 'max'])\n",
    "\n",
    "    # Since the calculated fluxes are specific rates, we multiply them by the\n",
    "    # biomass concentration to get the bulk exchange rates.\n",
    "    fluxes = lex_constraints.values\n",
    "    fluxes *= ATP\n",
    "\n",
    "    # This implementation is **not** efficient, so I display the current\n",
    "    # simulation time using a progress bar.\n",
    "    if dynamic_system.pbar is not None:\n",
    "        dynamic_system.pbar.update(1)\n",
    "        dynamic_system.pbar.set_description('t = {:.3f}'.format(t))\n",
    "\n",
    "    return fluxes\n",
    "\n",
    "dynamic_system.pbar = None\n",
    "\n",
    "\n",
    "def infeasible_event(t, y):\n",
    "    \"\"\"\n",
    "    Determine solution feasibility.\n",
    "\n",
    "    Avoiding infeasible solutions is handled by solve_ivp's built-in event detection.\n",
    "    This function re-solves the LP to determine whether or not the solution is feasible\n",
    "    (and if not, how far it is from feasibility). When the sign of this function changes\n",
    "    from -epsilon to positive, we know the solution is no longer feasible.\n",
    "\n",
    "    \"\"\"\n",
    "\n",
    "    with model:\n",
    "\n",
    "        add_dynamic_bounds(model, y)\n",
    "\n",
    "        cobra.util.add_lp_feasibility(model)\n",
    "        feasibility = cobra.util.fix_objective_as_constraint(model)\n",
    "\n",
    "    return feasibility - infeasible_event.epsilon\n",
    "\n",
    "infeasible_event.epsilon = 1E-6\n",
    "infeasible_event.direction = 1\n",
    "infeasible_event.terminal = True"
   ]
  },
  {
   "cell_type": "code",
   "execution_count": 34,
   "metadata": {},
   "outputs": [
    {
     "name": "stderr",
     "output_type": "stream",
     "text": [
      "t = 1000.000: : 666it [02:23,  4.65it/s]\n"
     ]
    }
   ],
   "source": [
    "from tqdm import tqdm\n",
    "from scipy.integrate import solve_ivp\n",
    "\n",
    "ts = np.linspace(0, 1000, 10000)  # Desired integration resolution and interval\n",
    "\n",
    "# Initial condition.\n",
    "y0 = [0.01, 10, 1, 10]\n",
    "\n",
    "with tqdm() as pbar:\n",
    "    dynamic_system.pbar = pbar\n",
    "\n",
    "    sol = solve_ivp(\n",
    "        fun=dynamic_system,\n",
    "        events=[infeasible_event],\n",
    "        t_span=(ts.min(), ts.max()),\n",
    "        y0=y0,\n",
    "        t_eval=ts,\n",
    "        rtol=1e-6,\n",
    "        atol=1e-8,\n",
    "        method='BDF'\n",
    "    )"
   ]
  },
  {
   "cell_type": "code",
   "execution_count": 35,
   "metadata": {},
   "outputs": [
    {
     "data": {
      "text/plain": [
       "<matplotlib.axes._subplots.AxesSubplot at 0x2b83ccd2cfa0>"
      ]
     },
     "execution_count": 35,
     "metadata": {},
     "output_type": "execute_result"
    },
    {
     "data": {
      "image/png": "[encoded data removed]",
      "text/plain": [
       "<Figure size 720x360 with 1 Axes>"
      ]
     },
     "metadata": {
      "needs_background": "light"
     },
     "output_type": "display_data"
    }
   ],
   "source": [
    "fig = plt.figure(figsize=(10, 5))\n",
    "ax = fig.add_subplot(111)\n",
    "# ax.plot(sol.t, sol.y.T[:, 0], label='ATP')\n",
    "# ax.plot(sol.t, sol.y.T[:, 1], label='TAG')\n",
    "# ax.plot(sol.t, sol.y.T[:, 2], label='Glycogen')\n",
    "# ax.plot(sol.t, sol.y.T[:, 3], label='o2')\n",
    "ax.plot(sol.t, sol.y.T[:, 0]/max(sol.y.T[:, 0]), label='ATP')\n",
    "ax.plot(sol.t, sol.y.T[:, 1]/max(sol.y.T[:, 1]), label='TAG')\n",
    "ax.plot(sol.t, sol.y.T[:, 2]/max(sol.y.T[:, 2]), label='Glycogen')\n",
    "ax.plot(sol.t, sol.y.T[:, 3]/max(sol.y.T[:, 3]), label='o2')\n",
    "ax.set_xlim([0, 200])\n",
    "plt.legend(bbox_to_anchor=(1, 0.4))\n",
    "# Change medium # plot the flux of extracellular sucrose\n",
    "CanvasStyle(ax, square=False)"
   ]
  },
  {
   "cell_type": "markdown",
   "metadata": {},
   "source": [
    "___\n",
    "## dFBA simulation with ATP hydrolysis reaction as demand reaction"
   ]
  },
  {
   "cell_type": "code",
   "execution_count": 36,
   "metadata": {},
   "outputs": [
    {
     "data": {
      "text/html": [
       "\n",
       "        <table>\n",
       "            <tr>\n",
       "                <td><strong>Name</strong></td>\n",
       "                <td>FlySilico_v1</td>\n",
       "            </tr><tr>\n",
       "                <td><strong>Memory address</strong></td>\n",
       "                <td>0x02b83d2756a00</td>\n",
       "            </tr><tr>\n",
       "                <td><strong>Number of metabolites</strong></td>\n",
       "                <td>293</td>\n",
       "            </tr><tr>\n",
       "                <td><strong>Number of reactions</strong></td>\n",
       "                <td>363</td>\n",
       "            </tr><tr>\n",
       "                <td><strong>Number of groups</strong></td>\n",
       "                <td>0</td>\n",
       "            </tr><tr>\n",
       "                <td><strong>Objective expression</strong></td>\n",
       "                <td>1.0*BIOMASS - 1.0*BIOMASS_reverse_69053</td>\n",
       "            </tr><tr>\n",
       "                <td><strong>Compartments</strong></td>\n",
       "                <td>cytosol, extracellular, mitochondria</td>\n",
       "            </tr>\n",
       "          </table>"
      ],
      "text/plain": [
       "<Model FlySilico_v1 at 0x2b83d2756a00>"
      ]
     },
     "execution_count": 36,
     "metadata": {},
     "output_type": "execute_result"
    }
   ],
   "source": [
    "# Load Flysilico_v1 model\n",
    "path = \"FBA_Dmel_mapdata.json\"\n",
    "model = cobra.io.load_json_model(path)\n",
    "model"
   ]
  },
  {
   "cell_type": "code",
   "execution_count": 37,
   "metadata": {},
   "outputs": [
    {
     "data": {
      "text/plain": [
       "'atp[c] --> adp[c] + pi[c]'"
      ]
     },
     "metadata": {},
     "output_type": "display_data"
    },
    {
     "data": {
      "text/plain": [
       "'tag[e] <=> '"
      ]
     },
     "metadata": {},
     "output_type": "display_data"
    },
    {
     "data": {
      "text/plain": [
       "'tag[e] --> tag[c]'"
      ]
     },
     "metadata": {},
     "output_type": "display_data"
    },
    {
     "data": {
      "text/plain": [
       "'glycogen[e] <=> '"
      ]
     },
     "metadata": {},
     "output_type": "display_data"
    },
    {
     "data": {
      "text/plain": [
       "'glycogen[e] --> glycogen[c]'"
      ]
     },
     "metadata": {},
     "output_type": "display_data"
    }
   ],
   "source": [
    "fly = model.copy()\n",
    "# Add an extra ATP synthesis reaction.\n",
    "reaction = Reaction('atp_cons')\n",
    "reaction.name = 'ATP_consumption'\n",
    "reaction.subsystem = ''\n",
    "reaction.lower_bound = 0.  # This is the default\n",
    "# lower_bound = 0.33 * 10^-3\n",
    "reaction.upper_bound = 1000.  # This is the default\n",
    "atp = model.metabolites.get_by_id('atp[c]')\n",
    "h2o = model.metabolites.get_by_id('h2o[c]')\n",
    "pi = model.metabolites.get_by_id('pi[c]')\n",
    "adp = model.metabolites.get_by_id('adp[c]')\n",
    "h = model.metabolites.get_by_id('h[c]')\n",
    "\n",
    "# reaction.add_metabolites({\n",
    "#     atp: -1.0,\n",
    "#     h2o: -1.0,\n",
    "#     pi: +1.0,\n",
    "#     adp: +1.0,\n",
    "#     h: +1.0,\n",
    "# })\n",
    "reaction.add_metabolites({\n",
    "    atp: -1.0,\n",
    "    pi: +1.0,\n",
    "    adp: +1.0,\n",
    "})\n",
    "\n",
    "display(reaction.reaction)  # This gives a string representation of the reaction\n",
    "fly.add_reactions([reaction])\n",
    "\n",
    "\n",
    "# Create reactions for TAG\n",
    "reaction = Reaction('EX_TAG')\n",
    "reaction.name = 'TAG exchange'\n",
    "reaction.subsystem = ''\n",
    "reaction.lower_bound = -1000.  # This is the default\n",
    "reaction.upper_bound = 1000.  # This is the default\n",
    "tag_c = model.metabolites.get_by_id('tag[c]')\n",
    "tag_e = Metabolite(\n",
    "    'tag[e]',\n",
    "    formula='C6H5O6R3',\n",
    "    name='Triglyceride',\n",
    "    compartment='e')\n",
    "\n",
    "reaction.add_metabolites({\n",
    "    tag_e: -1.0\n",
    "})\n",
    "\n",
    "display(reaction.reaction)  # This gives a string representation of the reaction\n",
    "fly.add_reactions([reaction])\n",
    "\n",
    "# Transportation from extracellular space to cytosolic space.\n",
    "reaction = Reaction('tm_TAG')\n",
    "reaction.name = 'TAG transport'\n",
    "reaction.subsystem = ''\n",
    "reaction.lower_bound = 0.  # This is the default\n",
    "reaction.upper_bound = 1000.  # This is the default\n",
    "reaction.add_metabolites({\n",
    "    tag_e: -1.0,\n",
    "    tag_c: 1.\n",
    "})\n",
    "\n",
    "display(reaction.reaction)  # This gives a string representation of the reaction\n",
    "fly.add_reactions([reaction])\n",
    "#tag[e] --> \n",
    "# tag[e] --> tag[c]\n",
    "#\n",
    "reaction = Reaction('EX_glyco')\n",
    "reaction.name = 'Glycogen exchange'\n",
    "reaction.subsystem = ''\n",
    "reaction.lower_bound = -1000.  # This is the default\n",
    "reaction.upper_bound = 1000.  # This is the default\n",
    "glyco_c = model.metabolites.get_by_id('glycogen[c]')\n",
    "glyco_e = Metabolite(\n",
    "    'glycogen[e]',\n",
    "    formula='C6H10O5',\n",
    "    name='Glycogen',\n",
    "    compartment='e')\n",
    "reaction.add_metabolites({\n",
    "    glyco_e: -1.0\n",
    "})\n",
    "\n",
    "display(reaction.reaction)  # This gives a string representation of the reaction\n",
    "fly.add_reactions([reaction])\n",
    "\n",
    "# Transportation from extracellular space to cytosolic space.\n",
    "reaction = Reaction('tm_glycogen')\n",
    "reaction.name = 'Glycogen transport'\n",
    "reaction.subsystem = ''\n",
    "reaction.lower_bound = 0.  # This is the default # check the flux\n",
    "reaction.upper_bound = 1000.  # This is the default\n",
    "reaction.add_metabolites({\n",
    "    glyco_e: -1.0,\n",
    "    glyco_c: 1.\n",
    "})\n",
    "\n",
    "display(reaction.reaction)  # This gives a string representation of the reaction\n",
    "fly.add_reactions([reaction])"
   ]
  },
  {
   "cell_type": "code",
   "execution_count": 82,
   "metadata": {},
   "outputs": [],
   "source": [
    "# fly.objective = \"atp_cons\"\n",
    "# sample_size = 50\n",
    "# para = np.linspace(0, -1, sample_size)\n",
    "# mat = np.zeros((sample_size, sample_size))\n",
    "# m = fly.medium\n",
    "# m['EX_sucr'] = 0\n",
    "# fly.medium = m\n",
    "# for i, vi in enumerate(reversed(para)):\n",
    "#     for j, vj in enumerate(para):\n",
    "#         fly.reactions.get_by_id('EX_glyco').lower_bound = vi\n",
    "#         fly.reactions.get_by_id('EX_TAG').lower_bound = vj\n",
    "#         sol = fly.optimize()\n",
    "#         mat[i, j] = sol.objective_value\n",
    "# #         print(sol.objective_value)\n",
    "        \n",
    "# fig = plt.figure(figsize=(25, 10))\n",
    "# ax = fig.add_subplot(111)\n",
    "# im = ax.imshow(mat, cmap='RdBu')\n",
    "# ax.set_yticks(np.linspace(0, sample_size-1, 6))\n",
    "# ax.set_yticklabels(np.round(np.linspace(-1, 0, 6), 3))\n",
    "# ax.set_xticks(np.linspace(0, sample_size-1, 6))\n",
    "# ax.set_xticklabels(np.round(np.linspace(0, -1, 6), 3))\n",
    "# ax.set_ylabel('Glycogen uptake rate')\n",
    "# ax.set_xlabel('TAG uptake rate')\n",
    "# ax.set_title('ATP hydrolysis')\n",
    "# CanvasStyle(ax, square=True)\n",
    "# ax.set_xticks(np.arange(mat.shape[1]+1)-.5, minor=True)\n",
    "# ax.set_yticks(np.arange(mat.shape[0]+1)-.5, minor=True)\n",
    "# ax.grid(which=\"minor\", color=\"w\", linestyle='-', linewidth=3)\n",
    "# plt.colorbar(im)\n",
    "# plt.tight_layout()\n",
    "# plt.show()\n",
    "\n",
    "\n",
    "# fly.reactions.get_by_id('EX_glyco').lower_bound = -0.11\n",
    "# fly.reactions.get_by_id('EX_TAG').lower_bound = -0.033\n",
    "# sol = fly.optimize()\n",
    "# display(sol.objective_value)\n",
    "# display(sol.fluxes['tm_TAG'])\n",
    "# display(sol.fluxes['tm_glycogen'])"
   ]
  },
  {
   "cell_type": "code",
   "execution_count": 38,
   "metadata": {},
   "outputs": [],
   "source": [
    "# model_o = model.copy()\n",
    "# m = fly.medium\n",
    "# for ele in m:\n",
    "#     print(ele)\n",
    "#     if ele!='EX_o2' and ele!='EX_TAG' and ele!='EX_glyco':\n",
    "#         m[ele] = 0\n",
    "# fly.medium = m"
   ]
  },
  {
   "cell_type": "code",
   "execution_count": 42,
   "metadata": {},
   "outputs": [
    {
     "data": {
      "text/plain": [
       "{'EX_h2o': 1000.0,\n",
       " 'EX_i(e)': 0.0107197,\n",
       " 'EX_o2': 1000.0,\n",
       " 'EX_sucr': 2.21240544,\n",
       " 'EX_choline(e)': 0.0158416,\n",
       " 'EX_clr(e)': 0.03432158,\n",
       " 'EX_fadh2(e)': 1000.0,\n",
       " 'EX_ins(e)': 0.00122769,\n",
       " 'EX_RIBFLV(e)': 0.00012888,\n",
       " 'EX_arg(e)': 0.23361544,\n",
       " 'EX_asn(e)': 0.28124216,\n",
       " 'EX_asp(e)': 0.27916151,\n",
       " 'EX_gln-L(e)': 0.55087471,\n",
       " 'EX_glu-L(e)': 0.54748851,\n",
       " 'EX_his(e)': 0.19386955,\n",
       " 'EX_ile(e)': 0.3911806,\n",
       " 'EX_leu(e)': 0.55304742,\n",
       " 'EX_lys(e)': 0.5265047,\n",
       " 'EX_met(e)': 0.09783051,\n",
       " 'EX_phe(e)': 0.38025078,\n",
       " 'EX_pro(e)': 0.21515964,\n",
       " 'EX_ser(e)': 0.31989175,\n",
       " 'EX_thr(e)': 0.4808948,\n",
       " 'EX_trp(e)': 0.29024044,\n",
       " 'EX_tyr(e)': 0.20507447,\n",
       " 'EX_val(e)': 0.16614346,\n",
       " 'EX_TAG': 1000.0,\n",
       " 'EX_glyco': 1000.0}"
      ]
     },
     "metadata": {},
     "output_type": "display_data"
    }
   ],
   "source": [
    "import cobra\n",
    "from cobra.test import create_test_model\n",
    "# model = create_test_model('textbook')\n",
    "# model = cobra.io.load_json_model(path)\n",
    "model = fly\n",
    "m = model.medium\n",
    "model.medium['EX_sucr'] = 0\n",
    "# m['EX_glu-L(e)'] = 0\n",
    "# m['EX_asn(e)'] = 0\n",
    "# m['EX_asp(e)'] = 0\n",
    "model.medium = m\n",
    "display(model.medium)\n",
    "def add_dynamic_bounds(model, y):\n",
    "    \"\"\"Use external concentrations to bound the uptake flux of glucose.\"\"\"\n",
    "    ATP, TAG, GLY, o2 = y  # expand the boundary species\n",
    "    \n",
    "    ATP_max_export = 1*ATP\n",
    "    model.reactions.get_by_id('atp_cons').upper_bound = ATP_max_export\n",
    "    \n",
    "    TAG_max_import = -0.33*TAG#-10 * TAG / (5 + TAG) # use -1\n",
    "    model.reactions.get_by_id('EX_TAG').lower_bound = TAG_max_import\n",
    "#     print('bug', TAG_max_import)\n",
    "    GLY_max_import = -1.1*GLY#-10 * GLY / (5 + GLY) # use -1\n",
    "    model.reactions.get_by_id('EX_glyco').lower_bound = GLY_max_import\n",
    "    \n",
    "    o2_max_import = -24*o2\n",
    "    model.reactions.get_by_id('EX_o2').lower_bound = o2_max_import\n",
    "\n",
    "\n",
    "def dynamic_system(t, y):\n",
    "    \"\"\"Calculate the time derivative of external species.\"\"\"\n",
    "\n",
    "    ATP, TAG, GLY, o2 = y  # expand the boundary species\n",
    "\n",
    "    # Calculate the specific exchanges fluxes at the given external concentrations.\n",
    "    with model:\n",
    "        add_dynamic_bounds(model, y)\n",
    "\n",
    "        cobra.util.add_lp_feasibility(model)\n",
    "        feasibility = cobra.util.fix_objective_as_constraint(model)\n",
    "        lex_constraints = cobra.util.add_lexicographic_constraints(\n",
    "            model, ['atp_cons', 'EX_TAG', 'EX_glyco', 'EX_o2'], ['max', 'max', 'max', 'max'])\n",
    "\n",
    "    # Since the calculated fluxes are specific rates, we multiply them by the\n",
    "    # biomass concentration to get the bulk exchange rates.\n",
    "    fluxes = lex_constraints.values\n",
    "    fluxes *= ATP\n",
    "\n",
    "    # This implementation is **not** efficient, so I display the current\n",
    "    # simulation time using a progress bar.\n",
    "    if dynamic_system.pbar is not None:\n",
    "        dynamic_system.pbar.update(1)\n",
    "        dynamic_system.pbar.set_description('t = {:.3f}'.format(t))\n",
    "\n",
    "    return fluxes\n",
    "\n",
    "dynamic_system.pbar = None\n",
    "\n",
    "\n",
    "def infeasible_event(t, y):\n",
    "    \"\"\"\n",
    "    Determine solution feasibility.\n",
    "\n",
    "    Avoiding infeasible solutions is handled by solve_ivp's built-in event detection.\n",
    "    This function re-solves the LP to determine whether or not the solution is feasible\n",
    "    (and if not, how far it is from feasibility). When the sign of this function changes\n",
    "    from -epsilon to positive, we know the solution is no longer feasible.\n",
    "\n",
    "    \"\"\"\n",
    "\n",
    "    with model:\n",
    "\n",
    "        add_dynamic_bounds(model, y)\n",
    "\n",
    "        cobra.util.add_lp_feasibility(model)\n",
    "        feasibility = cobra.util.fix_objective_as_constraint(model)\n",
    "\n",
    "    return feasibility - infeasible_event.epsilon\n",
    "\n",
    "infeasible_event.epsilon = 1E-6\n",
    "infeasible_event.direction = 1\n",
    "infeasible_event.terminal = True"
   ]
  },
  {
   "cell_type": "code",
   "execution_count": 43,
   "metadata": {},
   "outputs": [
    {
     "name": "stderr",
     "output_type": "stream",
     "text": [
      "t = 0.100: : 548it [02:00,  4.53it/s]\n"
     ]
    },
    {
     "ename": "Infeasible",
     "evalue": "None (infeasible)",
     "output_type": "error",
     "traceback": [
      "\u001b[0;31m---------------------------------------------------------------------------\u001b[0m",
      "\u001b[0;31mInfeasible\u001b[0m                                Traceback (most recent call last)",
      "\u001b[0;32m<ipython-input-43-36bc82331117>\u001b[0m in \u001b[0;36m<module>\u001b[0;34m\u001b[0m\n\u001b[1;32m      8\u001b[0m     \u001b[0mdynamic_system\u001b[0m\u001b[0;34m.\u001b[0m\u001b[0mpbar\u001b[0m \u001b[0;34m=\u001b[0m \u001b[0mpbar\u001b[0m\u001b[0;34m\u001b[0m\u001b[0;34m\u001b[0m\u001b[0m\n\u001b[1;32m      9\u001b[0m \u001b[0;34m\u001b[0m\u001b[0m\n\u001b[0;32m---> 10\u001b[0;31m     sol = solve_ivp(\n\u001b[0m\u001b[1;32m     11\u001b[0m         \u001b[0mfun\u001b[0m\u001b[0;34m=\u001b[0m\u001b[0mdynamic_system\u001b[0m\u001b[0;34m,\u001b[0m\u001b[0;34m\u001b[0m\u001b[0;34m\u001b[0m\u001b[0m\n\u001b[1;32m     12\u001b[0m         \u001b[0mevents\u001b[0m\u001b[0;34m=\u001b[0m\u001b[0;34m[\u001b[0m\u001b[0minfeasible_event\u001b[0m\u001b[0;34m]\u001b[0m\u001b[0;34m,\u001b[0m\u001b[0;34m\u001b[0m\u001b[0;34m\u001b[0m\u001b[0m\n",
      "\u001b[0;32m~/anaconda3/envs/jmatlab/lib/python3.8/site-packages/scipy/integrate/_ivp/ivp.py\u001b[0m in \u001b[0;36msolve_ivp\u001b[0;34m(fun, t_span, y0, method, t_eval, dense_output, events, vectorized, args, **options)\u001b[0m\n\u001b[1;32m    575\u001b[0m     \u001b[0mstatus\u001b[0m \u001b[0;34m=\u001b[0m \u001b[0;32mNone\u001b[0m\u001b[0;34m\u001b[0m\u001b[0;34m\u001b[0m\u001b[0m\n\u001b[1;32m    576\u001b[0m     \u001b[0;32mwhile\u001b[0m \u001b[0mstatus\u001b[0m \u001b[0;32mis\u001b[0m \u001b[0;32mNone\u001b[0m\u001b[0;34m:\u001b[0m\u001b[0;34m\u001b[0m\u001b[0;34m\u001b[0m\u001b[0m\n\u001b[0;32m--> 577\u001b[0;31m         \u001b[0mmessage\u001b[0m \u001b[0;34m=\u001b[0m \u001b[0msolver\u001b[0m\u001b[0;34m.\u001b[0m\u001b[0mstep\u001b[0m\u001b[0;34m(\u001b[0m\u001b[0;34m)\u001b[0m\u001b[0;34m\u001b[0m\u001b[0;34m\u001b[0m\u001b[0m\n\u001b[0m\u001b[1;32m    578\u001b[0m \u001b[0;34m\u001b[0m\u001b[0m\n\u001b[1;32m    579\u001b[0m         \u001b[0;32mif\u001b[0m \u001b[0msolver\u001b[0m\u001b[0;34m.\u001b[0m\u001b[0mstatus\u001b[0m \u001b[0;34m==\u001b[0m \u001b[0;34m'finished'\u001b[0m\u001b[0;34m:\u001b[0m\u001b[0;34m\u001b[0m\u001b[0;34m\u001b[0m\u001b[0m\n",
      "\u001b[0;32m~/anaconda3/envs/jmatlab/lib/python3.8/site-packages/scipy/integrate/_ivp/base.py\u001b[0m in \u001b[0;36mstep\u001b[0;34m(self)\u001b[0m\n\u001b[1;32m    180\u001b[0m         \u001b[0;32melse\u001b[0m\u001b[0;34m:\u001b[0m\u001b[0;34m\u001b[0m\u001b[0;34m\u001b[0m\u001b[0m\n\u001b[1;32m    181\u001b[0m             \u001b[0mt\u001b[0m \u001b[0;34m=\u001b[0m \u001b[0mself\u001b[0m\u001b[0;34m.\u001b[0m\u001b[0mt\u001b[0m\u001b[0;34m\u001b[0m\u001b[0;34m\u001b[0m\u001b[0m\n\u001b[0;32m--> 182\u001b[0;31m             \u001b[0msuccess\u001b[0m\u001b[0;34m,\u001b[0m \u001b[0mmessage\u001b[0m \u001b[0;34m=\u001b[0m \u001b[0mself\u001b[0m\u001b[0;34m.\u001b[0m\u001b[0m_step_impl\u001b[0m\u001b[0;34m(\u001b[0m\u001b[0;34m)\u001b[0m\u001b[0;34m\u001b[0m\u001b[0;34m\u001b[0m\u001b[0m\n\u001b[0m\u001b[1;32m    183\u001b[0m \u001b[0;34m\u001b[0m\u001b[0m\n\u001b[1;32m    184\u001b[0m             \u001b[0;32mif\u001b[0m \u001b[0;32mnot\u001b[0m \u001b[0msuccess\u001b[0m\u001b[0;34m:\u001b[0m\u001b[0;34m\u001b[0m\u001b[0;34m\u001b[0m\u001b[0m\n",
      "\u001b[0;32m~/anaconda3/envs/jmatlab/lib/python3.8/site-packages/scipy/integrate/_ivp/bdf.py\u001b[0m in \u001b[0;36m_step_impl\u001b[0;34m(self)\u001b[0m\n\u001b[1;32m    352\u001b[0m                     \u001b[0mLU\u001b[0m \u001b[0;34m=\u001b[0m \u001b[0mself\u001b[0m\u001b[0;34m.\u001b[0m\u001b[0mlu\u001b[0m\u001b[0;34m(\u001b[0m\u001b[0mself\u001b[0m\u001b[0;34m.\u001b[0m\u001b[0mI\u001b[0m \u001b[0;34m-\u001b[0m \u001b[0mc\u001b[0m \u001b[0;34m*\u001b[0m \u001b[0mJ\u001b[0m\u001b[0;34m)\u001b[0m\u001b[0;34m\u001b[0m\u001b[0;34m\u001b[0m\u001b[0m\n\u001b[1;32m    353\u001b[0m \u001b[0;34m\u001b[0m\u001b[0m\n\u001b[0;32m--> 354\u001b[0;31m                 converged, n_iter, y_new, d = solve_bdf_system(\n\u001b[0m\u001b[1;32m    355\u001b[0m                     \u001b[0mself\u001b[0m\u001b[0;34m.\u001b[0m\u001b[0mfun\u001b[0m\u001b[0;34m,\u001b[0m \u001b[0mt_new\u001b[0m\u001b[0;34m,\u001b[0m \u001b[0my_predict\u001b[0m\u001b[0;34m,\u001b[0m \u001b[0mc\u001b[0m\u001b[0;34m,\u001b[0m \u001b[0mpsi\u001b[0m\u001b[0;34m,\u001b[0m \u001b[0mLU\u001b[0m\u001b[0;34m,\u001b[0m \u001b[0mself\u001b[0m\u001b[0;34m.\u001b[0m\u001b[0msolve_lu\u001b[0m\u001b[0;34m,\u001b[0m\u001b[0;34m\u001b[0m\u001b[0;34m\u001b[0m\u001b[0m\n\u001b[1;32m    356\u001b[0m                     scale, self.newton_tol)\n",
      "\u001b[0;32m~/anaconda3/envs/jmatlab/lib/python3.8/site-packages/scipy/integrate/_ivp/bdf.py\u001b[0m in \u001b[0;36msolve_bdf_system\u001b[0;34m(fun, t_new, y_predict, c, psi, LU, solve_lu, scale, tol)\u001b[0m\n\u001b[1;32m     42\u001b[0m     \u001b[0mconverged\u001b[0m \u001b[0;34m=\u001b[0m \u001b[0;32mFalse\u001b[0m\u001b[0;34m\u001b[0m\u001b[0;34m\u001b[0m\u001b[0m\n\u001b[1;32m     43\u001b[0m     \u001b[0;32mfor\u001b[0m \u001b[0mk\u001b[0m \u001b[0;32min\u001b[0m \u001b[0mrange\u001b[0m\u001b[0;34m(\u001b[0m\u001b[0mNEWTON_MAXITER\u001b[0m\u001b[0;34m)\u001b[0m\u001b[0;34m:\u001b[0m\u001b[0;34m\u001b[0m\u001b[0;34m\u001b[0m\u001b[0m\n\u001b[0;32m---> 44\u001b[0;31m         \u001b[0mf\u001b[0m \u001b[0;34m=\u001b[0m \u001b[0mfun\u001b[0m\u001b[0;34m(\u001b[0m\u001b[0mt_new\u001b[0m\u001b[0;34m,\u001b[0m \u001b[0my\u001b[0m\u001b[0;34m)\u001b[0m\u001b[0;34m\u001b[0m\u001b[0;34m\u001b[0m\u001b[0m\n\u001b[0m\u001b[1;32m     45\u001b[0m         \u001b[0;32mif\u001b[0m \u001b[0;32mnot\u001b[0m \u001b[0mnp\u001b[0m\u001b[0;34m.\u001b[0m\u001b[0mall\u001b[0m\u001b[0;34m(\u001b[0m\u001b[0mnp\u001b[0m\u001b[0;34m.\u001b[0m\u001b[0misfinite\u001b[0m\u001b[0;34m(\u001b[0m\u001b[0mf\u001b[0m\u001b[0;34m)\u001b[0m\u001b[0;34m)\u001b[0m\u001b[0;34m:\u001b[0m\u001b[0;34m\u001b[0m\u001b[0;34m\u001b[0m\u001b[0m\n\u001b[1;32m     46\u001b[0m             \u001b[0;32mbreak\u001b[0m\u001b[0;34m\u001b[0m\u001b[0;34m\u001b[0m\u001b[0m\n",
      "\u001b[0;32m~/anaconda3/envs/jmatlab/lib/python3.8/site-packages/scipy/integrate/_ivp/base.py\u001b[0m in \u001b[0;36mfun\u001b[0;34m(t, y)\u001b[0m\n\u001b[1;32m    137\u001b[0m         \u001b[0;32mdef\u001b[0m \u001b[0mfun\u001b[0m\u001b[0;34m(\u001b[0m\u001b[0mt\u001b[0m\u001b[0;34m,\u001b[0m \u001b[0my\u001b[0m\u001b[0;34m)\u001b[0m\u001b[0;34m:\u001b[0m\u001b[0;34m\u001b[0m\u001b[0;34m\u001b[0m\u001b[0m\n\u001b[1;32m    138\u001b[0m             \u001b[0mself\u001b[0m\u001b[0;34m.\u001b[0m\u001b[0mnfev\u001b[0m \u001b[0;34m+=\u001b[0m \u001b[0;36m1\u001b[0m\u001b[0;34m\u001b[0m\u001b[0;34m\u001b[0m\u001b[0m\n\u001b[0;32m--> 139\u001b[0;31m             \u001b[0;32mreturn\u001b[0m \u001b[0mself\u001b[0m\u001b[0;34m.\u001b[0m\u001b[0mfun_single\u001b[0m\u001b[0;34m(\u001b[0m\u001b[0mt\u001b[0m\u001b[0;34m,\u001b[0m \u001b[0my\u001b[0m\u001b[0;34m)\u001b[0m\u001b[0;34m\u001b[0m\u001b[0;34m\u001b[0m\u001b[0m\n\u001b[0m\u001b[1;32m    140\u001b[0m \u001b[0;34m\u001b[0m\u001b[0m\n\u001b[1;32m    141\u001b[0m         \u001b[0mself\u001b[0m\u001b[0;34m.\u001b[0m\u001b[0mfun\u001b[0m \u001b[0;34m=\u001b[0m \u001b[0mfun\u001b[0m\u001b[0;34m\u001b[0m\u001b[0;34m\u001b[0m\u001b[0m\n",
      "\u001b[0;32m~/anaconda3/envs/jmatlab/lib/python3.8/site-packages/scipy/integrate/_ivp/base.py\u001b[0m in \u001b[0;36mfun_wrapped\u001b[0;34m(t, y)\u001b[0m\n\u001b[1;32m     19\u001b[0m \u001b[0;34m\u001b[0m\u001b[0m\n\u001b[1;32m     20\u001b[0m     \u001b[0;32mdef\u001b[0m \u001b[0mfun_wrapped\u001b[0m\u001b[0;34m(\u001b[0m\u001b[0mt\u001b[0m\u001b[0;34m,\u001b[0m \u001b[0my\u001b[0m\u001b[0;34m)\u001b[0m\u001b[0;34m:\u001b[0m\u001b[0;34m\u001b[0m\u001b[0;34m\u001b[0m\u001b[0m\n\u001b[0;32m---> 21\u001b[0;31m         \u001b[0;32mreturn\u001b[0m \u001b[0mnp\u001b[0m\u001b[0;34m.\u001b[0m\u001b[0masarray\u001b[0m\u001b[0;34m(\u001b[0m\u001b[0mfun\u001b[0m\u001b[0;34m(\u001b[0m\u001b[0mt\u001b[0m\u001b[0;34m,\u001b[0m \u001b[0my\u001b[0m\u001b[0;34m)\u001b[0m\u001b[0;34m,\u001b[0m \u001b[0mdtype\u001b[0m\u001b[0;34m=\u001b[0m\u001b[0mdtype\u001b[0m\u001b[0;34m)\u001b[0m\u001b[0;34m\u001b[0m\u001b[0;34m\u001b[0m\u001b[0m\n\u001b[0m\u001b[1;32m     22\u001b[0m \u001b[0;34m\u001b[0m\u001b[0m\n\u001b[1;32m     23\u001b[0m     \u001b[0;32mreturn\u001b[0m \u001b[0mfun_wrapped\u001b[0m\u001b[0;34m,\u001b[0m \u001b[0my0\u001b[0m\u001b[0;34m\u001b[0m\u001b[0;34m\u001b[0m\u001b[0m\n",
      "\u001b[0;32m<ipython-input-42-63001921cb9e>\u001b[0m in \u001b[0;36mdynamic_system\u001b[0;34m(t, y)\u001b[0m\n\u001b[1;32m     39\u001b[0m         \u001b[0mcobra\u001b[0m\u001b[0;34m.\u001b[0m\u001b[0mutil\u001b[0m\u001b[0;34m.\u001b[0m\u001b[0madd_lp_feasibility\u001b[0m\u001b[0;34m(\u001b[0m\u001b[0mmodel\u001b[0m\u001b[0;34m)\u001b[0m\u001b[0;34m\u001b[0m\u001b[0;34m\u001b[0m\u001b[0m\n\u001b[1;32m     40\u001b[0m         \u001b[0mfeasibility\u001b[0m \u001b[0;34m=\u001b[0m \u001b[0mcobra\u001b[0m\u001b[0;34m.\u001b[0m\u001b[0mutil\u001b[0m\u001b[0;34m.\u001b[0m\u001b[0mfix_objective_as_constraint\u001b[0m\u001b[0;34m(\u001b[0m\u001b[0mmodel\u001b[0m\u001b[0;34m)\u001b[0m\u001b[0;34m\u001b[0m\u001b[0;34m\u001b[0m\u001b[0m\n\u001b[0;32m---> 41\u001b[0;31m         lex_constraints = cobra.util.add_lexicographic_constraints(\n\u001b[0m\u001b[1;32m     42\u001b[0m             model, ['atp_cons', 'EX_TAG', 'EX_glyco', 'EX_o2'], ['max', 'max', 'max', 'max'])\n\u001b[1;32m     43\u001b[0m \u001b[0;34m\u001b[0m\u001b[0m\n",
      "\u001b[0;32m~/anaconda3/envs/jmatlab/lib/python3.8/site-packages/cobra/util/solver.py\u001b[0m in \u001b[0;36madd_lexicographic_constraints\u001b[0;34m(model, objectives, objective_direction)\u001b[0m\n\u001b[1;32m    525\u001b[0m         \u001b[0mmodel\u001b[0m\u001b[0;34m.\u001b[0m\u001b[0mobjective\u001b[0m \u001b[0;34m=\u001b[0m \u001b[0mmodel\u001b[0m\u001b[0;34m.\u001b[0m\u001b[0mreactions\u001b[0m\u001b[0;34m.\u001b[0m\u001b[0mget_by_id\u001b[0m\u001b[0;34m(\u001b[0m\u001b[0mrxn_id\u001b[0m\u001b[0;34m)\u001b[0m\u001b[0;34m\u001b[0m\u001b[0;34m\u001b[0m\u001b[0m\n\u001b[1;32m    526\u001b[0m         \u001b[0mmodel\u001b[0m\u001b[0;34m.\u001b[0m\u001b[0mobjective_direction\u001b[0m \u001b[0;34m=\u001b[0m \u001b[0mobj_dir\u001b[0m\u001b[0;34m\u001b[0m\u001b[0;34m\u001b[0m\u001b[0m\n\u001b[0;32m--> 527\u001b[0;31m         \u001b[0mconstraints\u001b[0m\u001b[0;34m.\u001b[0m\u001b[0mappend\u001b[0m\u001b[0;34m(\u001b[0m\u001b[0mfix_objective_as_constraint\u001b[0m\u001b[0;34m(\u001b[0m\u001b[0mmodel\u001b[0m\u001b[0;34m)\u001b[0m\u001b[0;34m)\u001b[0m\u001b[0;34m\u001b[0m\u001b[0;34m\u001b[0m\u001b[0m\n\u001b[0m\u001b[1;32m    528\u001b[0m \u001b[0;34m\u001b[0m\u001b[0m\n\u001b[1;32m    529\u001b[0m     \u001b[0;32mreturn\u001b[0m \u001b[0mpd\u001b[0m\u001b[0;34m.\u001b[0m\u001b[0mSeries\u001b[0m\u001b[0;34m(\u001b[0m\u001b[0mconstraints\u001b[0m\u001b[0;34m,\u001b[0m \u001b[0mindex\u001b[0m\u001b[0;34m=\u001b[0m\u001b[0mobjectives\u001b[0m\u001b[0;34m)\u001b[0m\u001b[0;34m\u001b[0m\u001b[0;34m\u001b[0m\u001b[0m\n",
      "\u001b[0;32m~/anaconda3/envs/jmatlab/lib/python3.8/site-packages/cobra/util/solver.py\u001b[0m in \u001b[0;36mfix_objective_as_constraint\u001b[0;34m(model, fraction, bound, name)\u001b[0m\n\u001b[1;32m    397\u001b[0m         \u001b[0mmodel\u001b[0m\u001b[0;34m.\u001b[0m\u001b[0msolver\u001b[0m\u001b[0;34m.\u001b[0m\u001b[0mremove\u001b[0m\u001b[0;34m(\u001b[0m\u001b[0mfix_objective_name\u001b[0m\u001b[0;34m)\u001b[0m\u001b[0;34m\u001b[0m\u001b[0;34m\u001b[0m\u001b[0m\n\u001b[1;32m    398\u001b[0m     \u001b[0;32mif\u001b[0m \u001b[0mbound\u001b[0m \u001b[0;32mis\u001b[0m \u001b[0;32mNone\u001b[0m\u001b[0;34m:\u001b[0m\u001b[0;34m\u001b[0m\u001b[0;34m\u001b[0m\u001b[0m\n\u001b[0;32m--> 399\u001b[0;31m         \u001b[0mbound\u001b[0m \u001b[0;34m=\u001b[0m \u001b[0mmodel\u001b[0m\u001b[0;34m.\u001b[0m\u001b[0mslim_optimize\u001b[0m\u001b[0;34m(\u001b[0m\u001b[0merror_value\u001b[0m\u001b[0;34m=\u001b[0m\u001b[0;32mNone\u001b[0m\u001b[0;34m)\u001b[0m \u001b[0;34m*\u001b[0m \u001b[0mfraction\u001b[0m\u001b[0;34m\u001b[0m\u001b[0;34m\u001b[0m\u001b[0m\n\u001b[0m\u001b[1;32m    400\u001b[0m     \u001b[0;32mif\u001b[0m \u001b[0mmodel\u001b[0m\u001b[0;34m.\u001b[0m\u001b[0mobjective\u001b[0m\u001b[0;34m.\u001b[0m\u001b[0mdirection\u001b[0m \u001b[0;34m==\u001b[0m \u001b[0;34m'max'\u001b[0m\u001b[0;34m:\u001b[0m\u001b[0;34m\u001b[0m\u001b[0;34m\u001b[0m\u001b[0m\n\u001b[1;32m    401\u001b[0m         \u001b[0mub\u001b[0m\u001b[0;34m,\u001b[0m \u001b[0mlb\u001b[0m \u001b[0;34m=\u001b[0m \u001b[0;32mNone\u001b[0m\u001b[0;34m,\u001b[0m \u001b[0mbound\u001b[0m\u001b[0;34m\u001b[0m\u001b[0;34m\u001b[0m\u001b[0m\n",
      "\u001b[0;32m~/anaconda3/envs/jmatlab/lib/python3.8/site-packages/cobra/core/model.py\u001b[0m in \u001b[0;36mslim_optimize\u001b[0;34m(self, error_value, message)\u001b[0m\n\u001b[1;32m   1053\u001b[0m             \u001b[0;32mreturn\u001b[0m \u001b[0merror_value\u001b[0m\u001b[0;34m\u001b[0m\u001b[0;34m\u001b[0m\u001b[0m\n\u001b[1;32m   1054\u001b[0m         \u001b[0;32melse\u001b[0m\u001b[0;34m:\u001b[0m\u001b[0;34m\u001b[0m\u001b[0;34m\u001b[0m\u001b[0m\n\u001b[0;32m-> 1055\u001b[0;31m             \u001b[0massert_optimal\u001b[0m\u001b[0;34m(\u001b[0m\u001b[0mself\u001b[0m\u001b[0;34m,\u001b[0m \u001b[0mmessage\u001b[0m\u001b[0;34m)\u001b[0m\u001b[0;34m\u001b[0m\u001b[0;34m\u001b[0m\u001b[0m\n\u001b[0m\u001b[1;32m   1056\u001b[0m \u001b[0;34m\u001b[0m\u001b[0m\n\u001b[1;32m   1057\u001b[0m     \u001b[0;32mdef\u001b[0m \u001b[0moptimize\u001b[0m\u001b[0;34m(\u001b[0m\u001b[0mself\u001b[0m\u001b[0;34m,\u001b[0m \u001b[0mobjective_sense\u001b[0m\u001b[0;34m=\u001b[0m\u001b[0;32mNone\u001b[0m\u001b[0;34m,\u001b[0m \u001b[0mraise_error\u001b[0m\u001b[0;34m=\u001b[0m\u001b[0;32mFalse\u001b[0m\u001b[0;34m)\u001b[0m\u001b[0;34m:\u001b[0m\u001b[0;34m\u001b[0m\u001b[0;34m\u001b[0m\u001b[0m\n",
      "\u001b[0;32m~/anaconda3/envs/jmatlab/lib/python3.8/site-packages/cobra/util/solver.py\u001b[0m in \u001b[0;36massert_optimal\u001b[0;34m(model, message)\u001b[0m\n\u001b[1;32m    439\u001b[0m         exception_cls = OPTLANG_TO_EXCEPTIONS_DICT.get(\n\u001b[1;32m    440\u001b[0m             status, OptimizationError)\n\u001b[0;32m--> 441\u001b[0;31m         \u001b[0;32mraise\u001b[0m \u001b[0mexception_cls\u001b[0m\u001b[0;34m(\u001b[0m\u001b[0;34m\"{} ({})\"\u001b[0m\u001b[0;34m.\u001b[0m\u001b[0mformat\u001b[0m\u001b[0;34m(\u001b[0m\u001b[0mmessage\u001b[0m\u001b[0;34m,\u001b[0m \u001b[0mstatus\u001b[0m\u001b[0;34m)\u001b[0m\u001b[0;34m)\u001b[0m\u001b[0;34m\u001b[0m\u001b[0;34m\u001b[0m\u001b[0m\n\u001b[0m\u001b[1;32m    442\u001b[0m \u001b[0;34m\u001b[0m\u001b[0m\n\u001b[1;32m    443\u001b[0m \u001b[0;34m\u001b[0m\u001b[0m\n",
      "\u001b[0;31mInfeasible\u001b[0m: None (infeasible)"
     ]
    }
   ],
   "source": [
    "from tqdm import tqdm\n",
    "from scipy.integrate import solve_ivp\n",
    "\n",
    "ts = np.linspace(0, 2, 10)  # Desired integration resolution and interval\n",
    "y0 = [100, 1, 1, 10]\n",
    "\n",
    "with tqdm() as pbar:\n",
    "    dynamic_system.pbar = pbar\n",
    "\n",
    "    sol = solve_ivp(\n",
    "        fun=dynamic_system,\n",
    "        events=[infeasible_event],\n",
    "        t_span=(ts.min(), ts.max()),\n",
    "        y0=y0,\n",
    "        t_eval=ts,\n",
    "        rtol=1e-6,\n",
    "        atol=1e-8,\n",
    "        method='BDF'\n",
    "    )"
   ]
  },
  {
   "cell_type": "code",
   "execution_count": 81,
   "metadata": {},
   "outputs": [
    {
     "data": {
      "text/plain": [
       "<matplotlib.axes._subplots.AxesSubplot at 0x2b037c322d60>"
      ]
     },
     "execution_count": 81,
     "metadata": {},
     "output_type": "execute_result"
    },
    {
     "data": {
      "image/png": "[encoded data removed]",
      "text/plain": [
       "<Figure size 576x360 with 1 Axes>"
      ]
     },
     "metadata": {
      "needs_background": "light"
     },
     "output_type": "display_data"
    }
   ],
   "source": [
    "fig = plt.figure(figsize=(8, 5))\n",
    "ax = fig.add_subplot(111)\n",
    "# ax.plot(sol.t, sol.y.T[:, 0], label='ATP')\n",
    "# ax.plot(sol.t, sol.y.T[:, 1], label='TAG')\n",
    "# ax.plot(sol.t, sol.y.T[:, 2], label='Glycogen')\n",
    "# ax.plot(sol.t, sol.y.T[:, 3], label='o2')\n",
    "ax.plot(sol.t, sol.y.T[:, 0]/max(sol.y.T[:, 0]), label='Pi')\n",
    "ax.plot(sol.t, sol.y.T[:, 1]/max(sol.y.T[:, 1]), label='TAG')\n",
    "ax.plot(sol.t, sol.y.T[:, 2]/max(sol.y.T[:, 2]), label='Glycogen')\n",
    "ax.plot(sol.t, sol.y.T[:, 3]/max(sol.y.T[:, 3]), label='o2')\n",
    "plt.legend()\n",
    "# Change medium # plot the flux of extracellular sucrose\n",
    "CanvasStyle(ax, square=False)"
   ]
  },
  {
   "cell_type": "code",
   "execution_count": null,
   "metadata": {},
   "outputs": [],
   "source": []
  }
 ],
 "metadata": {
  "kernelspec": {
   "display_name": "Python 3",
   "language": "python",
   "name": "python3"
  },
  "language_info": {
   "codemirror_mode": {
    "name": "ipython",
    "version": 3
   },
   "file_extension": ".py",
   "mimetype": "text/x-python",
   "name": "python",
   "nbconvert_exporter": "python",
   "pygments_lexer": "ipython3",
   "version": "3.8.2"
  }
 },
 "nbformat": 4,
 "nbformat_minor": 4
}
