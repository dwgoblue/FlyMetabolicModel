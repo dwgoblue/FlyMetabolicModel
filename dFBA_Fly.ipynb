{
 "cells": [
  {
   "cell_type": "markdown",
   "metadata": {},
   "source": [
    "# Measurement of ATP production based on given amount of TAG and glycogen\n",
    "From the article, the whole process of embryonic growth produces 110 nmol of ATP which consists of 1.1 nmol of glycogen and 0.33 nmol of TAG. (v) (use glycogen and TAG)"
   ]
  },
  {
   "cell_type": "code",
   "execution_count": 18,
   "metadata": {},
   "outputs": [],
   "source": [
    "# import essential packages\n",
    "import cobra\n",
    "import pandas as pd\n",
    "import timeit\n",
    "import time\n",
    "import seaborn\n",
    "import matplotlib.pyplot as plt\n",
    "import numpy as np\n",
    "from cobra.flux_analysis import (\n",
    "    single_gene_deletion, single_reaction_deletion, double_gene_deletion,\n",
    "    double_reaction_deletion)\n",
    "import os\n",
    "from cobra.util.solver import linear_reaction_coefficients\n",
    "from MatplotProp import CanvasStyle, PltProps\n",
    "PltProps()"
   ]
  },
  {
   "cell_type": "code",
   "execution_count": 19,
   "metadata": {},
   "outputs": [
    {
     "data": {
      "text/html": [
       "\n",
       "        <table>\n",
       "            <tr>\n",
       "                <td><strong>Name</strong></td>\n",
       "                <td>FlySilico_v1</td>\n",
       "            </tr><tr>\n",
       "                <td><strong>Memory address</strong></td>\n",
       "                <td>0x02aae58527b50</td>\n",
       "            </tr><tr>\n",
       "                <td><strong>Number of metabolites</strong></td>\n",
       "                <td>293</td>\n",
       "            </tr><tr>\n",
       "                <td><strong>Number of reactions</strong></td>\n",
       "                <td>363</td>\n",
       "            </tr><tr>\n",
       "                <td><strong>Number of groups</strong></td>\n",
       "                <td>0</td>\n",
       "            </tr><tr>\n",
       "                <td><strong>Objective expression</strong></td>\n",
       "                <td>1.0*BIOMASS - 1.0*BIOMASS_reverse_69053</td>\n",
       "            </tr><tr>\n",
       "                <td><strong>Compartments</strong></td>\n",
       "                <td>cytosol, extracellular, mitochondria</td>\n",
       "            </tr>\n",
       "          </table>"
      ],
      "text/plain": [
       "<Model FlySilico_v1 at 0x2aae58527b50>"
      ]
     },
     "execution_count": 19,
     "metadata": {},
     "output_type": "execute_result"
    }
   ],
   "source": [
    "# Load Flysilico_v1 model\n",
    "path = \"FBA_Dmel_mapdata.json\"\n",
    "model = cobra.io.load_json_model(path)\n",
    "model"
   ]
  },
  {
   "cell_type": "code",
   "execution_count": 20,
   "metadata": {},
   "outputs": [
    {
     "data": {
      "text/plain": [
       "'atp[c] --> '"
      ]
     },
     "metadata": {},
     "output_type": "display_data"
    },
    {
     "data": {
      "text/plain": [
       "'tag[e] <=> '"
      ]
     },
     "metadata": {},
     "output_type": "display_data"
    },
    {
     "data": {
      "text/plain": [
       "'tag[e] --> tag[c]'"
      ]
     },
     "metadata": {},
     "output_type": "display_data"
    },
    {
     "data": {
      "text/plain": [
       "'glycogen[e] <=> '"
      ]
     },
     "metadata": {},
     "output_type": "display_data"
    },
    {
     "data": {
      "text/plain": [
       "'glycogen[e] --> glycogen[c]'"
      ]
     },
     "metadata": {},
     "output_type": "display_data"
    }
   ],
   "source": [
    "from cobra import Model, Reaction, Metabolite\n",
    "# Best practise: SBML compliant IDs\n",
    "# Copy the model for modificaitons.\n",
    "fly = model.copy()\n",
    "\n",
    "# Add an extra ATP synthesis reaction (demand reaction).\n",
    "reaction = Reaction('atp_measure')\n",
    "reaction.name = 'ATP_measure'\n",
    "reaction.subsystem = ''\n",
    "reaction.lower_bound = 0.  # This is the default\n",
    "reaction.upper_bound = 1000.  # This is the default\n",
    "tag = model.metabolites.get_by_id('atp[c]')\n",
    "reaction.add_metabolites({\n",
    "    tag: -1.0\n",
    "})\n",
    "\n",
    "display(reaction.reaction)  # This gives a string representation of the reaction\n",
    "fly.add_reactions([reaction])\n",
    "\n",
    "# Create reactions for TAG\n",
    "reaction = Reaction('EX_TAG')\n",
    "reaction.name = 'TAG exchange'\n",
    "reaction.subsystem = ''\n",
    "reaction.lower_bound = -1000.  # This is the default\n",
    "reaction.upper_bound = 1000.  # This is the default\n",
    "tag_c = model.metabolites.get_by_id('tag[c]')\n",
    "tag_e = Metabolite(\n",
    "    'tag[e]',\n",
    "    formula='C6H5O6R3',\n",
    "    name='Triglyceride',\n",
    "    compartment='e')\n",
    "\n",
    "reaction.add_metabolites({\n",
    "    tag_e: -1.0\n",
    "})\n",
    "\n",
    "display(reaction.reaction)  # This gives a string representation of the reaction\n",
    "fly.add_reactions([reaction])\n",
    "\n",
    "# Transportation from extracellular space to cytosolic space.\n",
    "reaction = Reaction('tm_TAG')\n",
    "reaction.name = 'TAG transport'\n",
    "reaction.subsystem = ''\n",
    "reaction.lower_bound = 0.  # This is the default\n",
    "reaction.upper_bound = 1000.  # This is the default\n",
    "reaction.add_metabolites({\n",
    "    tag_e: -1.0,\n",
    "    tag_c: 1.\n",
    "})\n",
    "\n",
    "display(reaction.reaction)  # This gives a string representation of the reaction\n",
    "fly.add_reactions([reaction])\n",
    "reaction = Reaction('EX_glyco')\n",
    "reaction.name = 'Glycogen exchange'\n",
    "reaction.subsystem = ''\n",
    "reaction.lower_bound = -1000.  # This is the default\n",
    "reaction.upper_bound = 1000.  # This is the default\n",
    "glyco_c = model.metabolites.get_by_id('glycogen[c]')\n",
    "glyco_e = Metabolite(\n",
    "    'glycogen[e]',\n",
    "    formula='C6H10O5',\n",
    "    name='Glycogen',\n",
    "    compartment='e')\n",
    "reaction.add_metabolites({\n",
    "    glyco_e: -1.0\n",
    "})\n",
    "\n",
    "display(reaction.reaction)  # This gives a string representation of the reaction\n",
    "fly.add_reactions([reaction])\n",
    "\n",
    "# Transportation from extracellular space to cytosolic space.\n",
    "reaction = Reaction('tm_glycogen')\n",
    "reaction.name = 'Glycogen transport'\n",
    "reaction.subsystem = ''\n",
    "reaction.lower_bound = 0.  # This is the default # check the flux\n",
    "reaction.upper_bound = 1000.  # This is the default\n",
    "reaction.add_metabolites({\n",
    "    glyco_e: -1.0,\n",
    "    glyco_c: 1.\n",
    "})\n",
    "\n",
    "display(reaction.reaction)  # This gives a string representation of the reaction\n",
    "fly.add_reactions([reaction])"
   ]
  },
  {
   "cell_type": "code",
   "execution_count": 21,
   "metadata": {},
   "outputs": [
    {
     "data": {
      "image/png": "[encoded data removed]",
      "text/plain": [
       "<Figure size 1800x720 with 2 Axes>"
      ]
     },
     "metadata": {
      "needs_background": "light"
     },
     "output_type": "display_data"
    }
   ],
   "source": [
    "# Optimize the demand reaction.\n",
    "fly.objective = \"atp_measure\"\n",
    "\n",
    "# Settings.\n",
    "sample_size = 50\n",
    "para = np.linspace(0, -1, sample_size)\n",
    "mat = np.zeros((sample_size, sample_size))\n",
    "\n",
    "# Remove sucrose.\n",
    "m = fly.medium\n",
    "m['EX_sucr'] = 0\n",
    "fly.medium = m\n",
    "\n",
    "# Change glycogen and TAG uptake rate for measuring the ATP fluxes.\n",
    "for i, vi in enumerate(reversed(para)):\n",
    "    for j, vj in enumerate(para):\n",
    "        fly.reactions.get_by_id('EX_glyco').lower_bound = vi\n",
    "        fly.reactions.get_by_id('EX_TAG').lower_bound = vj\n",
    "        sol = fly.optimize()\n",
    "        mat[i, j] = sol.objective_value\n",
    "\n",
    "# Figure settings.\n",
    "fig = plt.figure(figsize=(25, 10))\n",
    "ax = fig.add_subplot(111)\n",
    "im = ax.imshow(mat, cmap='RdBu')\n",
    "ax.set_yticks(np.linspace(0, sample_size-1, 6))\n",
    "ax.set_yticklabels(np.round(np.linspace(-1, 0, 6), 3))\n",
    "ax.set_xticks(np.linspace(0, sample_size-1, 6))\n",
    "ax.set_xticklabels(np.round(np.linspace(0, -1, 6), 3))\n",
    "ax.set_ylabel('Glycogen uptake rate')\n",
    "ax.set_xlabel('TAG uptake rate')\n",
    "ax.set_title('ATP flux varied by TAG & glycogen')\n",
    "CanvasStyle(ax, square=True)\n",
    "ax.set_xticks(np.arange(mat.shape[1]+1)-.5, minor=True)\n",
    "ax.set_yticks(np.arange(mat.shape[0]+1)-.5, minor=True)\n",
    "ax.grid(which=\"minor\", color=\"w\", linestyle='-', linewidth=3)\n",
    "plt.colorbar(im)\n",
    "plt.tight_layout()\n",
    "plt.show()"
   ]
  },
  {
   "cell_type": "markdown",
   "metadata": {},
   "source": [
    "___\n",
    "## dFBA simulation with ATP synthesis reaction as demand reaction"
   ]
  },
  {
   "cell_type": "code",
   "execution_count": 16,
   "metadata": {},
   "outputs": [],
   "source": [
    "# Remove all resources from the medium if needed.\n",
    "# model_o = model.copy()\n",
    "# m = fly.medium\n",
    "# for ele in m:\n",
    "#     print(ele)\n",
    "#     if ele!='EX_o2' and ele!='EX_TAG' and ele!='EX_glyco':\n",
    "#         m[ele] = 0\n",
    "# fly.medium = m"
   ]
  },
  {
   "cell_type": "code",
   "execution_count": 23,
   "metadata": {},
   "outputs": [
    {
     "data": {
      "text/plain": [
       "{'EX_h2o': 1000.0,\n",
       " 'EX_i(e)': 0.0107197,\n",
       " 'EX_o2': 1000.0,\n",
       " 'EX_choline(e)': 0.0158416,\n",
       " 'EX_clr(e)': 0.03432158,\n",
       " 'EX_fadh2(e)': 1000.0,\n",
       " 'EX_ins(e)': 0.00122769,\n",
       " 'EX_RIBFLV(e)': 0.00012888,\n",
       " 'EX_arg(e)': 0.23361544,\n",
       " 'EX_asn(e)': 0.28124216,\n",
       " 'EX_asp(e)': 0.27916151,\n",
       " 'EX_gln-L(e)': 0.55087471,\n",
       " 'EX_glu-L(e)': 0.54748851,\n",
       " 'EX_his(e)': 0.19386955,\n",
       " 'EX_ile(e)': 0.3911806,\n",
       " 'EX_leu(e)': 0.55304742,\n",
       " 'EX_lys(e)': 0.5265047,\n",
       " 'EX_met(e)': 0.09783051,\n",
       " 'EX_phe(e)': 0.38025078,\n",
       " 'EX_pro(e)': 0.21515964,\n",
       " 'EX_ser(e)': 0.31989175,\n",
       " 'EX_thr(e)': 0.4808948,\n",
       " 'EX_trp(e)': 0.29024044,\n",
       " 'EX_tyr(e)': 0.20507447,\n",
       " 'EX_val(e)': 0.16614346,\n",
       " 'EX_TAG': 1.0}"
      ]
     },
     "metadata": {},
     "output_type": "display_data"
    }
   ],
   "source": [
    "# dFBA settings.\n",
    "model = fly\n",
    "\n",
    "# Remove resources from medium if needed.\n",
    "m = model.medium\n",
    "m['EX_sucr'] = 0\n",
    "# m['EX_glu-L(e)'] = 0\n",
    "# m['EX_asn(e)'] = 0\n",
    "# m['EX_asp(e)'] = 0\n",
    "model.medium = m\n",
    "display(model.medium)\n",
    "\n",
    "def add_dynamic_bounds(model, y):\n",
    "    \"\"\"Use external concentrations to bound the uptake flux of glucose.\"\"\"\n",
    "    biomass, TAG, GLY, o2 = y  # expand the boundary species\n",
    "    \n",
    "    TAG_max_import = -0.33*TAG\n",
    "    model.reactions.get_by_id('EX_TAG').lower_bound = TAG_max_import\n",
    "    \n",
    "    GLY_max_import = -1.1*GLY\n",
    "    model.reactions.get_by_id('EX_glyco').lower_bound = GLY_max_import\n",
    "    \n",
    "    o2_max_import = -24*o2\n",
    "    model.reactions.get_by_id('EX_o2').lower_bound = o2_max_import\n",
    "\n",
    "\n",
    "def dynamic_system(t, y):\n",
    "    \"\"\"Calculate the time derivative of external species.\"\"\"\n",
    "\n",
    "    biomass, TAG, GLY, o2 = y  # expand the boundary species\n",
    "\n",
    "    # Calculate the specific exchanges fluxes at the given external concentrations.\n",
    "    with model:\n",
    "        add_dynamic_bounds(model, y)\n",
    "\n",
    "        cobra.util.add_lp_feasibility(model)\n",
    "        feasibility = cobra.util.fix_objective_as_constraint(model)\n",
    "        lex_constraints = cobra.util.add_lexicographic_constraints(\n",
    "            model, ['atp_measure', 'EX_TAG', 'EX_glyco', 'EX_o2'],\n",
    "            ['max', 'max', 'max', 'max'])\n",
    "\n",
    "    # Since the calculated fluxes are specific rates, we multiply them by the\n",
    "    # biomass concentration to get the bulk exchange rates.\n",
    "    fluxes = lex_constraints.values\n",
    "    fluxes *= biomass\n",
    "\n",
    "    # This implementation is **not** efficient, so I display the current\n",
    "    # simulation time using a progress bar.\n",
    "    if dynamic_system.pbar is not None:\n",
    "        dynamic_system.pbar.update(1)\n",
    "        dynamic_system.pbar.set_description('t = {:.3f}'.format(t))\n",
    "\n",
    "    return fluxes\n",
    "\n",
    "dynamic_system.pbar = None\n",
    "\n",
    "\n",
    "def infeasible_event(t, y):\n",
    "    \"\"\"\n",
    "    Determine solution feasibility.\n",
    "\n",
    "    Avoiding infeasible solutions is handled by solve_ivp's built-in event detection.\n",
    "    This function re-solves the LP to determine whether or not the solution is feasible\n",
    "    (and if not, how far it is from feasibility). When the sign of this function changes\n",
    "    from -epsilon to positive, we know the solution is no longer feasible.\n",
    "\n",
    "    \"\"\"\n",
    "\n",
    "    with model:\n",
    "\n",
    "        add_dynamic_bounds(model, y)\n",
    "\n",
    "        cobra.util.add_lp_feasibility(model)\n",
    "        feasibility = cobra.util.fix_objective_as_constraint(model)\n",
    "\n",
    "    return feasibility - infeasible_event.epsilon\n",
    "\n",
    "infeasible_event.epsilon = 1E-6\n",
    "infeasible_event.direction = 1\n",
    "infeasible_event.terminal = True"
   ]
  },
  {
   "cell_type": "code",
   "execution_count": 25,
   "metadata": {},
   "outputs": [
    {
     "name": "stderr",
     "output_type": "stream",
     "text": [
      "t = 1000.000: : 731it [02:30,  4.84it/s]\n"
     ]
    }
   ],
   "source": [
    "from tqdm import tqdm\n",
    "from scipy.integrate import solve_ivp\n",
    "\n",
    "ts = np.linspace(0, 1000, 10000)  # Desired integration resolution and interval\n",
    "\n",
    "# Initial condition.\n",
    "y0 = [0.01, 10, 1, 10]\n",
    "\n",
    "with tqdm() as pbar:\n",
    "    dynamic_system.pbar = pbar\n",
    "\n",
    "    sol = solve_ivp(\n",
    "        fun=dynamic_system,\n",
    "        events=[infeasible_event],\n",
    "        t_span=(ts.min(), ts.max()),\n",
    "        y0=y0,\n",
    "        t_eval=ts,\n",
    "        rtol=1e-6,\n",
    "        atol=1e-8,\n",
    "        method='BDF'\n",
    "    )"
   ]
  },
  {
   "cell_type": "code",
   "execution_count": 24,
   "metadata": {},
   "outputs": [
    {
     "ename": "AttributeError",
     "evalue": "'Solution' object has no attribute 't'",
     "output_type": "error",
     "traceback": [
      "\u001b[0;31m---------------------------------------------------------------------------\u001b[0m",
      "\u001b[0;31mAttributeError\u001b[0m                            Traceback (most recent call last)",
      "\u001b[0;32m<ipython-input-24-37a7783f31d6>\u001b[0m in \u001b[0;36m<module>\u001b[0;34m\u001b[0m\n\u001b[1;32m      5\u001b[0m \u001b[0;31m# ax.plot(sol.t, sol.y.T[:, 2], label='Glycogen')\u001b[0m\u001b[0;34m\u001b[0m\u001b[0;34m\u001b[0m\u001b[0;34m\u001b[0m\u001b[0m\n\u001b[1;32m      6\u001b[0m \u001b[0;31m# ax.plot(sol.t, sol.y.T[:, 3], label='o2')\u001b[0m\u001b[0;34m\u001b[0m\u001b[0;34m\u001b[0m\u001b[0;34m\u001b[0m\u001b[0m\n\u001b[0;32m----> 7\u001b[0;31m \u001b[0max\u001b[0m\u001b[0;34m.\u001b[0m\u001b[0mplot\u001b[0m\u001b[0;34m(\u001b[0m\u001b[0msol\u001b[0m\u001b[0;34m.\u001b[0m\u001b[0mt\u001b[0m\u001b[0;34m,\u001b[0m \u001b[0msol\u001b[0m\u001b[0;34m.\u001b[0m\u001b[0my\u001b[0m\u001b[0;34m.\u001b[0m\u001b[0mT\u001b[0m\u001b[0;34m[\u001b[0m\u001b[0;34m:\u001b[0m\u001b[0;34m,\u001b[0m \u001b[0;36m0\u001b[0m\u001b[0;34m]\u001b[0m\u001b[0;34m/\u001b[0m\u001b[0mmax\u001b[0m\u001b[0;34m(\u001b[0m\u001b[0msol\u001b[0m\u001b[0;34m.\u001b[0m\u001b[0my\u001b[0m\u001b[0;34m.\u001b[0m\u001b[0mT\u001b[0m\u001b[0;34m[\u001b[0m\u001b[0;34m:\u001b[0m\u001b[0;34m,\u001b[0m \u001b[0;36m0\u001b[0m\u001b[0;34m]\u001b[0m\u001b[0;34m)\u001b[0m\u001b[0;34m,\u001b[0m \u001b[0mlabel\u001b[0m\u001b[0;34m=\u001b[0m\u001b[0;34m'ATP'\u001b[0m\u001b[0;34m)\u001b[0m\u001b[0;34m\u001b[0m\u001b[0;34m\u001b[0m\u001b[0m\n\u001b[0m\u001b[1;32m      8\u001b[0m \u001b[0max\u001b[0m\u001b[0;34m.\u001b[0m\u001b[0mplot\u001b[0m\u001b[0;34m(\u001b[0m\u001b[0msol\u001b[0m\u001b[0;34m.\u001b[0m\u001b[0mt\u001b[0m\u001b[0;34m,\u001b[0m \u001b[0msol\u001b[0m\u001b[0;34m.\u001b[0m\u001b[0my\u001b[0m\u001b[0;34m.\u001b[0m\u001b[0mT\u001b[0m\u001b[0;34m[\u001b[0m\u001b[0;34m:\u001b[0m\u001b[0;34m,\u001b[0m \u001b[0;36m1\u001b[0m\u001b[0;34m]\u001b[0m\u001b[0;34m/\u001b[0m\u001b[0mmax\u001b[0m\u001b[0;34m(\u001b[0m\u001b[0msol\u001b[0m\u001b[0;34m.\u001b[0m\u001b[0my\u001b[0m\u001b[0;34m.\u001b[0m\u001b[0mT\u001b[0m\u001b[0;34m[\u001b[0m\u001b[0;34m:\u001b[0m\u001b[0;34m,\u001b[0m \u001b[0;36m1\u001b[0m\u001b[0;34m]\u001b[0m\u001b[0;34m)\u001b[0m\u001b[0;34m,\u001b[0m \u001b[0mlabel\u001b[0m\u001b[0;34m=\u001b[0m\u001b[0;34m'TAG'\u001b[0m\u001b[0;34m)\u001b[0m\u001b[0;34m\u001b[0m\u001b[0;34m\u001b[0m\u001b[0m\n\u001b[1;32m      9\u001b[0m \u001b[0max\u001b[0m\u001b[0;34m.\u001b[0m\u001b[0mplot\u001b[0m\u001b[0;34m(\u001b[0m\u001b[0msol\u001b[0m\u001b[0;34m.\u001b[0m\u001b[0mt\u001b[0m\u001b[0;34m,\u001b[0m \u001b[0msol\u001b[0m\u001b[0;34m.\u001b[0m\u001b[0my\u001b[0m\u001b[0;34m.\u001b[0m\u001b[0mT\u001b[0m\u001b[0;34m[\u001b[0m\u001b[0;34m:\u001b[0m\u001b[0;34m,\u001b[0m \u001b[0;36m2\u001b[0m\u001b[0;34m]\u001b[0m\u001b[0;34m/\u001b[0m\u001b[0mmax\u001b[0m\u001b[0;34m(\u001b[0m\u001b[0msol\u001b[0m\u001b[0;34m.\u001b[0m\u001b[0my\u001b[0m\u001b[0;34m.\u001b[0m\u001b[0mT\u001b[0m\u001b[0;34m[\u001b[0m\u001b[0;34m:\u001b[0m\u001b[0;34m,\u001b[0m \u001b[0;36m2\u001b[0m\u001b[0;34m]\u001b[0m\u001b[0;34m)\u001b[0m\u001b[0;34m,\u001b[0m \u001b[0mlabel\u001b[0m\u001b[0;34m=\u001b[0m\u001b[0;34m'Glycogen'\u001b[0m\u001b[0;34m)\u001b[0m\u001b[0;34m\u001b[0m\u001b[0;34m\u001b[0m\u001b[0m\n",
      "\u001b[0;31mAttributeError\u001b[0m: 'Solution' object has no attribute 't'"
     ]
    },
    {
     "data": {
      "image/png": "[encoded data removed]",
      "text/plain": [
       "<Figure size 720x360 with 1 Axes>"
      ]
     },
     "metadata": {
      "needs_background": "light"
     },
     "output_type": "display_data"
    }
   ],
   "source": [
    "fig = plt.figure(figsize=(10, 5))\n",
    "ax = fig.add_subplot(111)\n",
    "# ax.plot(sol.t, sol.y.T[:, 0], label='ATP')\n",
    "# ax.plot(sol.t, sol.y.T[:, 1], label='TAG')\n",
    "# ax.plot(sol.t, sol.y.T[:, 2], label='Glycogen')\n",
    "# ax.plot(sol.t, sol.y.T[:, 3], label='o2')\n",
    "ax.plot(sol.t, sol.y.T[:, 0]/max(sol.y.T[:, 0]), label='ATP')\n",
    "ax.plot(sol.t, sol.y.T[:, 1]/max(sol.y.T[:, 1]), label='TAG')\n",
    "ax.plot(sol.t, sol.y.T[:, 2]/max(sol.y.T[:, 2]), label='Glycogen')\n",
    "ax.plot(sol.t, sol.y.T[:, 3]/max(sol.y.T[:, 3]), label='o2')\n",
    "ax.set_xlim([0, 1000])\n",
    "plt.legend(bbox_to_anchor=(1, 0.4))\n",
    "# Change medium # plot the flux of extracellular sucrose\n",
    "CanvasStyle(ax, square=False)"
   ]
  },
  {
   "cell_type": "markdown",
   "metadata": {},
   "source": [
    "___\n",
    "## dFBA simulation with ATP hydrolysis reaction as demand reaction"
   ]
  },
  {
   "cell_type": "code",
   "execution_count": 72,
   "metadata": {},
   "outputs": [
    {
     "data": {
      "text/html": [
       "\n",
       "        <table>\n",
       "            <tr>\n",
       "                <td><strong>Name</strong></td>\n",
       "                <td>FlySilico_v1</td>\n",
       "            </tr><tr>\n",
       "                <td><strong>Memory address</strong></td>\n",
       "                <td>0x02b0379047ac0</td>\n",
       "            </tr><tr>\n",
       "                <td><strong>Number of metabolites</strong></td>\n",
       "                <td>293</td>\n",
       "            </tr><tr>\n",
       "                <td><strong>Number of reactions</strong></td>\n",
       "                <td>363</td>\n",
       "            </tr><tr>\n",
       "                <td><strong>Number of groups</strong></td>\n",
       "                <td>0</td>\n",
       "            </tr><tr>\n",
       "                <td><strong>Objective expression</strong></td>\n",
       "                <td>1.0*BIOMASS - 1.0*BIOMASS_reverse_69053</td>\n",
       "            </tr><tr>\n",
       "                <td><strong>Compartments</strong></td>\n",
       "                <td>cytosol, extracellular, mitochondria</td>\n",
       "            </tr>\n",
       "          </table>"
      ],
      "text/plain": [
       "<Model FlySilico_v1 at 0x2b0379047ac0>"
      ]
     },
     "execution_count": 72,
     "metadata": {},
     "output_type": "execute_result"
    }
   ],
   "source": [
    "# Load Flysilico_v1 model\n",
    "path = \"FBA_Dmel_mapdata.json\"\n",
    "model = cobra.io.load_json_model(path)\n",
    "model"
   ]
  },
  {
   "cell_type": "code",
   "execution_count": 73,
   "metadata": {},
   "outputs": [
    {
     "data": {
      "text/plain": [
       "'atp[c] --> adp[c] + pi[c]'"
      ]
     },
     "metadata": {},
     "output_type": "display_data"
    },
    {
     "data": {
      "text/plain": [
       "'tag[e] <=> '"
      ]
     },
     "metadata": {},
     "output_type": "display_data"
    },
    {
     "data": {
      "text/plain": [
       "'tag[e] --> tag[c]'"
      ]
     },
     "metadata": {},
     "output_type": "display_data"
    },
    {
     "data": {
      "text/plain": [
       "'glycogen[e] <=> '"
      ]
     },
     "metadata": {},
     "output_type": "display_data"
    },
    {
     "data": {
      "text/plain": [
       "'glycogen[e] --> glycogen[c]'"
      ]
     },
     "metadata": {},
     "output_type": "display_data"
    }
   ],
   "source": [
    "fly = model.copy()\n",
    "# Add an extra ATP synthesis reaction.\n",
    "reaction = Reaction('atp_cons')\n",
    "reaction.name = 'ATP_consumption'\n",
    "reaction.subsystem = ''\n",
    "reaction.lower_bound = 0.  # This is the default\n",
    "# lower_bound = 0.33 * 10^-3\n",
    "reaction.upper_bound = 1000.  # This is the default\n",
    "atp = model.metabolites.get_by_id('atp[c]')\n",
    "h2o = model.metabolites.get_by_id('h2o[c]')\n",
    "pi = model.metabolites.get_by_id('pi[c]')\n",
    "adp = model.metabolites.get_by_id('adp[c]')\n",
    "h = model.metabolites.get_by_id('h[c]')\n",
    "\n",
    "# reaction.add_metabolites({\n",
    "#     atp: -1.0,\n",
    "#     h2o: -1.0,\n",
    "#     pi: +1.0,\n",
    "#     adp: +1.0,\n",
    "#     h: +1.0,\n",
    "# })\n",
    "reaction.add_metabolites({\n",
    "    atp: -1.0,\n",
    "    pi: +1.0,\n",
    "    adp: +1.0,\n",
    "})\n",
    "\n",
    "display(reaction.reaction)  # This gives a string representation of the reaction\n",
    "fly.add_reactions([reaction])\n",
    "\n",
    "\n",
    "# Create reactions for TAG\n",
    "reaction = Reaction('EX_TAG')\n",
    "reaction.name = 'TAG exchange'\n",
    "reaction.subsystem = ''\n",
    "reaction.lower_bound = -1000.  # This is the default\n",
    "reaction.upper_bound = 1000.  # This is the default\n",
    "tag_c = model.metabolites.get_by_id('tag[c]')\n",
    "tag_e = Metabolite(\n",
    "    'tag[e]',\n",
    "    formula='C6H5O6R3',\n",
    "    name='Triglyceride',\n",
    "    compartment='e')\n",
    "\n",
    "reaction.add_metabolites({\n",
    "    tag_e: -1.0\n",
    "})\n",
    "\n",
    "display(reaction.reaction)  # This gives a string representation of the reaction\n",
    "fly.add_reactions([reaction])\n",
    "\n",
    "# Transportation from extracellular space to cytosolic space.\n",
    "reaction = Reaction('tm_TAG')\n",
    "reaction.name = 'TAG transport'\n",
    "reaction.subsystem = ''\n",
    "reaction.lower_bound = 0.  # This is the default\n",
    "reaction.upper_bound = 1000.  # This is the default\n",
    "reaction.add_metabolites({\n",
    "    tag_e: -1.0,\n",
    "    tag_c: 1.\n",
    "})\n",
    "\n",
    "display(reaction.reaction)  # This gives a string representation of the reaction\n",
    "fly.add_reactions([reaction])\n",
    "#tag[e] --> \n",
    "# tag[e] --> tag[c]\n",
    "#\n",
    "reaction = Reaction('EX_glyco')\n",
    "reaction.name = 'Glycogen exchange'\n",
    "reaction.subsystem = ''\n",
    "reaction.lower_bound = -1000.  # This is the default\n",
    "reaction.upper_bound = 1000.  # This is the default\n",
    "glyco_c = model.metabolites.get_by_id('glycogen[c]')\n",
    "glyco_e = Metabolite(\n",
    "    'glycogen[e]',\n",
    "    formula='C6H10O5',\n",
    "    name='Glycogen',\n",
    "    compartment='e')\n",
    "reaction.add_metabolites({\n",
    "    glyco_e: -1.0\n",
    "})\n",
    "\n",
    "display(reaction.reaction)  # This gives a string representation of the reaction\n",
    "fly.add_reactions([reaction])\n",
    "\n",
    "# Transportation from extracellular space to cytosolic space.\n",
    "reaction = Reaction('tm_glycogen')\n",
    "reaction.name = 'Glycogen transport'\n",
    "reaction.subsystem = ''\n",
    "reaction.lower_bound = 0.  # This is the default # check the flux\n",
    "reaction.upper_bound = 1000.  # This is the default\n",
    "reaction.add_metabolites({\n",
    "    glyco_e: -1.0,\n",
    "    glyco_c: 1.\n",
    "})\n",
    "\n",
    "display(reaction.reaction)  # This gives a string representation of the reaction\n",
    "fly.add_reactions([reaction])"
   ]
  },
  {
   "cell_type": "code",
   "execution_count": 82,
   "metadata": {},
   "outputs": [],
   "source": [
    "# fly.objective = \"atp_cons\"\n",
    "# sample_size = 50\n",
    "# para = np.linspace(0, -1, sample_size)\n",
    "# mat = np.zeros((sample_size, sample_size))\n",
    "# m = fly.medium\n",
    "# m['EX_sucr'] = 0\n",
    "# fly.medium = m\n",
    "# for i, vi in enumerate(reversed(para)):\n",
    "#     for j, vj in enumerate(para):\n",
    "#         fly.reactions.get_by_id('EX_glyco').lower_bound = vi\n",
    "#         fly.reactions.get_by_id('EX_TAG').lower_bound = vj\n",
    "#         sol = fly.optimize()\n",
    "#         mat[i, j] = sol.objective_value\n",
    "# #         print(sol.objective_value)\n",
    "        \n",
    "# fig = plt.figure(figsize=(25, 10))\n",
    "# ax = fig.add_subplot(111)\n",
    "# im = ax.imshow(mat, cmap='RdBu')\n",
    "# ax.set_yticks(np.linspace(0, sample_size-1, 6))\n",
    "# ax.set_yticklabels(np.round(np.linspace(-1, 0, 6), 3))\n",
    "# ax.set_xticks(np.linspace(0, sample_size-1, 6))\n",
    "# ax.set_xticklabels(np.round(np.linspace(0, -1, 6), 3))\n",
    "# ax.set_ylabel('Glycogen uptake rate')\n",
    "# ax.set_xlabel('TAG uptake rate')\n",
    "# ax.set_title('ATP hydrolysis')\n",
    "# CanvasStyle(ax, square=True)\n",
    "# ax.set_xticks(np.arange(mat.shape[1]+1)-.5, minor=True)\n",
    "# ax.set_yticks(np.arange(mat.shape[0]+1)-.5, minor=True)\n",
    "# ax.grid(which=\"minor\", color=\"w\", linestyle='-', linewidth=3)\n",
    "# plt.colorbar(im)\n",
    "# plt.tight_layout()\n",
    "# plt.show()\n",
    "\n",
    "\n",
    "# fly.reactions.get_by_id('EX_glyco').lower_bound = -0.11\n",
    "# fly.reactions.get_by_id('EX_TAG').lower_bound = -0.033\n",
    "# sol = fly.optimize()\n",
    "# display(sol.objective_value)\n",
    "# display(sol.fluxes['tm_TAG'])\n",
    "# display(sol.fluxes['tm_glycogen'])"
   ]
  },
  {
   "cell_type": "code",
   "execution_count": 83,
   "metadata": {},
   "outputs": [
    {
     "name": "stdout",
     "output_type": "stream",
     "text": [
      "EX_h2o\n",
      "EX_i(e)\n",
      "EX_o2\n",
      "EX_sucr\n",
      "EX_choline(e)\n",
      "EX_clr(e)\n",
      "EX_fadh2(e)\n",
      "EX_ins(e)\n",
      "EX_RIBFLV(e)\n",
      "EX_arg(e)\n",
      "EX_asn(e)\n",
      "EX_asp(e)\n",
      "EX_gln-L(e)\n",
      "EX_glu-L(e)\n",
      "EX_his(e)\n",
      "EX_ile(e)\n",
      "EX_leu(e)\n",
      "EX_lys(e)\n",
      "EX_met(e)\n",
      "EX_phe(e)\n",
      "EX_pro(e)\n",
      "EX_ser(e)\n",
      "EX_thr(e)\n",
      "EX_trp(e)\n",
      "EX_tyr(e)\n",
      "EX_val(e)\n",
      "EX_TAG\n",
      "EX_glyco\n"
     ]
    }
   ],
   "source": [
    "model_o = model.copy()\n",
    "m = fly.medium\n",
    "for ele in m:\n",
    "    print(ele)\n",
    "    if ele!='EX_o2' and ele!='EX_TAG' and ele!='EX_glyco':\n",
    "        m[ele] = 0\n",
    "fly.medium = m"
   ]
  },
  {
   "cell_type": "code",
   "execution_count": 84,
   "metadata": {},
   "outputs": [
    {
     "data": {
      "text/plain": [
       "{'EX_o2': 1000.0, 'EX_TAG': 1000.0, 'EX_glyco': 1000.0}"
      ]
     },
     "metadata": {},
     "output_type": "display_data"
    }
   ],
   "source": [
    "import cobra\n",
    "from cobra.test import create_test_model\n",
    "# model = create_test_model('textbook')\n",
    "# model = cobra.io.load_json_model(path)\n",
    "model = fly\n",
    "m = model.medium\n",
    "# model.medium['EX_sucr'] = 0\n",
    "# m['EX_glu-L(e)'] = 0\n",
    "# m['EX_asn(e)'] = 0\n",
    "# m['EX_asp(e)'] = 0\n",
    "model.medium = m\n",
    "display(model.medium)\n",
    "def add_dynamic_bounds(model, y):\n",
    "    \"\"\"Use external concentrations to bound the uptake flux of glucose.\"\"\"\n",
    "    biomass, TAG, GLY, o2 = y  # expand the boundary species\n",
    "    TAG_max_import = -0.33*TAG#-10 * TAG / (5 + TAG) # use -1\n",
    "    model.reactions.get_by_id('EX_TAG').lower_bound = TAG_max_import\n",
    "#     print('bug', TAG_max_import)\n",
    "    GLY_max_import = -1.1*GLY#-10 * GLY / (5 + GLY) # use -1\n",
    "    model.reactions.get_by_id('EX_glyco').lower_bound = GLY_max_import\n",
    "    \n",
    "    o2_max_import = -24*o2\n",
    "    model.reactions.get_by_id('EX_o2').lower_bound = o2_max_import\n",
    "\n",
    "\n",
    "def dynamic_system(t, y):\n",
    "    \"\"\"Calculate the time derivative of external species.\"\"\"\n",
    "\n",
    "    biomass, TAG, GLY, o2 = y  # expand the boundary species\n",
    "\n",
    "    # Calculate the specific exchanges fluxes at the given external concentrations.\n",
    "    with model:\n",
    "        add_dynamic_bounds(model, y)\n",
    "\n",
    "        cobra.util.add_lp_feasibility(model)\n",
    "        feasibility = cobra.util.fix_objective_as_constraint(model)\n",
    "        lex_constraints = cobra.util.add_lexicographic_constraints(\n",
    "            model, ['atp_cons', 'EX_TAG', 'EX_glyco', 'EX_o2'], ['max', 'max', 'max', 'max'])\n",
    "\n",
    "    # Since the calculated fluxes are specific rates, we multiply them by the\n",
    "    # biomass concentration to get the bulk exchange rates.\n",
    "    fluxes = lex_constraints.values\n",
    "    fluxes *= biomass\n",
    "\n",
    "    # This implementation is **not** efficient, so I display the current\n",
    "    # simulation time using a progress bar.\n",
    "    if dynamic_system.pbar is not None:\n",
    "        dynamic_system.pbar.update(1)\n",
    "        dynamic_system.pbar.set_description('t = {:.3f}'.format(t))\n",
    "\n",
    "    return fluxes\n",
    "\n",
    "dynamic_system.pbar = None\n",
    "\n",
    "\n",
    "def infeasible_event(t, y):\n",
    "    \"\"\"\n",
    "    Determine solution feasibility.\n",
    "\n",
    "    Avoiding infeasible solutions is handled by solve_ivp's built-in event detection.\n",
    "    This function re-solves the LP to determine whether or not the solution is feasible\n",
    "    (and if not, how far it is from feasibility). When the sign of this function changes\n",
    "    from -epsilon to positive, we know the solution is no longer feasible.\n",
    "\n",
    "    \"\"\"\n",
    "\n",
    "    with model:\n",
    "\n",
    "        add_dynamic_bounds(model, y)\n",
    "\n",
    "        cobra.util.add_lp_feasibility(model)\n",
    "        feasibility = cobra.util.fix_objective_as_constraint(model)\n",
    "\n",
    "    return feasibility - infeasible_event.epsilon\n",
    "\n",
    "infeasible_event.epsilon = 1E-6\n",
    "infeasible_event.direction = 1\n",
    "infeasible_event.terminal = True"
   ]
  },
  {
   "cell_type": "code",
   "execution_count": 85,
   "metadata": {},
   "outputs": [
    {
     "name": "stderr",
     "output_type": "stream",
     "text": [
      "t = 2.000: : 576it [02:01,  4.75it/s]\n"
     ]
    }
   ],
   "source": [
    "from tqdm import tqdm\n",
    "from scipy.integrate import solve_ivp\n",
    "\n",
    "ts = np.linspace(0, 2, 10)  # Desired integration resolution and interval\n",
    "y0 = [100, 10, 10, 10]\n",
    "\n",
    "with tqdm() as pbar:\n",
    "    dynamic_system.pbar = pbar\n",
    "\n",
    "    sol = solve_ivp(\n",
    "        fun=dynamic_system,\n",
    "        events=[infeasible_event],\n",
    "        t_span=(ts.min(), ts.max()),\n",
    "        y0=y0,\n",
    "        t_eval=ts,\n",
    "        rtol=1e-6,\n",
    "        atol=1e-8,\n",
    "        method='BDF'\n",
    "    )"
   ]
  },
  {
   "cell_type": "code",
   "execution_count": 81,
   "metadata": {},
   "outputs": [
    {
     "data": {
      "text/plain": [
       "<matplotlib.axes._subplots.AxesSubplot at 0x2b037c322d60>"
      ]
     },
     "execution_count": 81,
     "metadata": {},
     "output_type": "execute_result"
    },
    {
     "data": {
      "image/png": "[encoded data removed]",
      "text/plain": [
       "<Figure size 576x360 with 1 Axes>"
      ]
     },
     "metadata": {
      "needs_background": "light"
     },
     "output_type": "display_data"
    }
   ],
   "source": [
    "fig = plt.figure(figsize=(8, 5))\n",
    "ax = fig.add_subplot(111)\n",
    "# ax.plot(sol.t, sol.y.T[:, 0], label='ATP')\n",
    "# ax.plot(sol.t, sol.y.T[:, 1], label='TAG')\n",
    "# ax.plot(sol.t, sol.y.T[:, 2], label='Glycogen')\n",
    "# ax.plot(sol.t, sol.y.T[:, 3], label='o2')\n",
    "ax.plot(sol.t, sol.y.T[:, 0]/max(sol.y.T[:, 0]), label='Pi')\n",
    "ax.plot(sol.t, sol.y.T[:, 1]/max(sol.y.T[:, 1]), label='TAG')\n",
    "ax.plot(sol.t, sol.y.T[:, 2]/max(sol.y.T[:, 2]), label='Glycogen')\n",
    "ax.plot(sol.t, sol.y.T[:, 3]/max(sol.y.T[:, 3]), label='o2')\n",
    "plt.legend()\n",
    "# Change medium # plot the flux of extracellular sucrose\n",
    "CanvasStyle(ax, square=False)"
   ]
  },
  {
   "cell_type": "code",
   "execution_count": null,
   "metadata": {},
   "outputs": [],
   "source": []
  }
 ],
 "metadata": {
  "kernelspec": {
   "display_name": "Python 3",
   "language": "python",
   "name": "python3"
  },
  "language_info": {
   "codemirror_mode": {
    "name": "ipython",
    "version": 3
   },
   "file_extension": ".py",
   "mimetype": "text/x-python",
   "name": "python",
   "nbconvert_exporter": "python",
   "pygments_lexer": "ipython3",
   "version": "3.8.2"
  }
 },
 "nbformat": 4,
 "nbformat_minor": 4
}
